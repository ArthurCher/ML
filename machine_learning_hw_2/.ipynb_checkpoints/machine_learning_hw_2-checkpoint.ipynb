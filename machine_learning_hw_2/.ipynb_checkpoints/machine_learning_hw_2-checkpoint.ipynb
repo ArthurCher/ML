{
 "cells": [
  {
   "cell_type": "markdown",
   "metadata": {},
   "source": [
    "# Домашнее задание \"Функции потерь и оптимизация\""
   ]
  },
  {
   "cell_type": "code",
   "execution_count": 105,
   "metadata": {},
   "outputs": [],
   "source": [
    "# Подключение необходимых библиотек\n",
    "\n",
    "import numpy as np\n",
    "import pandas as pd"
   ]
  },
  {
   "cell_type": "code",
   "execution_count": 145,
   "metadata": {},
   "outputs": [],
   "source": [
    "# Создадим необходимые функции\n",
    "\n",
    "# Сигмоид - функция вероятности принадлежности к классу\n",
    "def sigmoid(x, weight):\n",
    "    z = np.dot(x, weight)\n",
    "    op = 1/(1 + np.exp(-z)) \n",
    "    return op\n",
    "\n",
    "# Фунция потерь логистической регрессии\n",
    "def loss(h, y):\n",
    "    return (-y * np.log(h) - (1 - y) * np.log(1 - h)).mean()\n",
    "\n",
    "# Функция расчета градиента\n",
    "def gradient_descent(X, h, y):\n",
    "    return np.dot(X.T, (h - y)) / y.shape[0]\n",
    "\n",
    "# Функция градиентного спуска\n",
    "def fit(x, y, lr, iteration):\n",
    "    weight = np.zeros(x.shape[1])\n",
    "    for i in range(iterations):\n",
    "        sigma = sigmoid(x, weight)            \n",
    "\n",
    "        dW = gradient_descent(x , sigma, y)\n",
    "        weight -= lr * dW\n",
    "    \n",
    "    print('Обучение закончилось')\n",
    "    \n",
    "    return weight\n",
    "\n",
    "# Функция Nesterov Momentum\n",
    "def fit_nest(x, y, lr, iteration):\n",
    "    weight = np.zeros(x.shape[1])\n",
    "    rho = 0.975\n",
    "    vx = np.zeros(x.shape[1])\n",
    "    for i in range(iterations):\n",
    "        sigma = sigmoid(x, weight)            \n",
    "        dW = gradient_descent(x , sigma, y)\n",
    "        old_vx = vx\n",
    "        vx = rho * vx - lr * dW\n",
    "        \n",
    "        weight = rho * old_vx + (1 - rho) * vx\n",
    "    \n",
    "    print('Обучение закончилось')\n",
    "    \n",
    "    return weight\n",
    "\n",
    "# Функция rmsprop\n",
    "def fit_rmsprop(x, y, lr, iteration):\n",
    "    weight = np.zeros(x.shape[1])\n",
    "    rho = 0.975\n",
    "    ep_dW2 = np.zeros(x.shape[1])\n",
    "    eps = 0.00001\n",
    "    for i in range(iterations):\n",
    "        sigma = sigmoid(x, weight)            \n",
    "        dW = gradient_descent(x , sigma, y)\n",
    "        old_ep_dW2 = ep_dW2\n",
    "        \n",
    "        ep_dW2 = rho * old_ep_dW2 + (1 - rho)*dW**2\n",
    "        \n",
    "        weight = weight - (lr * (1/np.sqrt(ep_dW2+eps)))*dW\n",
    "    \n",
    "    print('Обучение закончилось')\n",
    "    \n",
    "    return weight\n",
    "\n",
    "# Функция предсказания класса\n",
    "def predict(x, weight):\n",
    "    op = sigmoid(x, weight)    \n",
    "    result = op >= 0.5\n",
    "    result = result.astype(int)\n",
    "    \n",
    "    return result\n"
   ]
  },
  {
   "cell_type": "code",
   "execution_count": 107,
   "metadata": {},
   "outputs": [],
   "source": [
    "# Загрузим даннные и получим X и y\n",
    "df = pd.read_csv('adult.csv', na_values='?') # Загрузил датасет и подставил вместо ? - отстутсвие значения\n",
    "selectedCol = df[['age', 'workclass', 'education', 'educational-num', 'marital-status', 'occupation', 'relationship', 'race', 'gender', 'native-country', 'income']]\n",
    "selectedCol = selectedCol.dropna()\n",
    "X = pd.get_dummies( selectedCol, columns = [ 'workclass',  'education', 'marital-status', 'occupation', 'relationship', 'race', 'native-country'] )\n",
    "from sklearn.preprocessing import LabelEncoder\n",
    "le = LabelEncoder()\n",
    "\n",
    "le.fit( X['gender'] ) \n",
    "\n",
    "X['gender'] = le.transform(X['gender']) # Через LabelEncoder преобразовываем пол в число\n",
    "\n",
    "del X['income'] # Это целевое значение - удаляем из X\n",
    "\n",
    "le.fit( selectedCol['income'] )\n",
    "\n",
    "y = pd.Series( data = le.transform( selectedCol['income'] ) ) # Делаем y из income и преобразуем в числовые значения"
   ]
  },
  {
   "cell_type": "code",
   "execution_count": 108,
   "metadata": {},
   "outputs": [],
   "source": [
    "# Разобьем на train и test\n",
    "from sklearn.model_selection import train_test_split\n",
    "\n",
    "X_train, X_test, y_train, y_test = train_test_split(X, y, test_size=0.25, random_state=42) # Делим выборки"
   ]
  },
  {
   "cell_type": "code",
   "execution_count": 133,
   "metadata": {},
   "outputs": [
    {
     "name": "stdout",
     "output_type": "stream",
     "text": [
      "Обучение закончилось\n"
     ]
    }
   ],
   "source": [
    "# Обучим методом градиентным спуском\n",
    "lr = 0.1\n",
    "iterations = 50\n",
    "\n",
    "weight = fit(X_train, y_train, lr, iterations)"
   ]
  },
  {
   "cell_type": "code",
   "execution_count": 134,
   "metadata": {},
   "outputs": [
    {
     "data": {
      "text/plain": [
       "array([0, 0, 0, ..., 0, 0, 0])"
      ]
     },
     "execution_count": 134,
     "metadata": {},
     "output_type": "execute_result"
    }
   ],
   "source": [
    "# Получение предсказания для X_test\n",
    "predict(X_test, weight)"
   ]
  },
  {
   "cell_type": "code",
   "execution_count": 135,
   "metadata": {},
   "outputs": [
    {
     "data": {
      "text/plain": [
       "0.7560587298779409"
      ]
     },
     "execution_count": 135,
     "metadata": {},
     "output_type": "execute_result"
    }
   ],
   "source": [
    "# Для интереса проверим точность полученной модели\n",
    "from sklearn.metrics import accuracy_score # Загружаем метрику точности\n",
    "\n",
    "accuracy_score(y_test, predict(X_test, weight)) "
   ]
  },
  {
   "cell_type": "markdown",
   "metadata": {},
   "source": [
    "## Вывод:\n",
    "Точность 75% весьма высокая"
   ]
  },
  {
   "cell_type": "code",
   "execution_count": 149,
   "metadata": {},
   "outputs": [
    {
     "name": "stdout",
     "output_type": "stream",
     "text": [
      "Обучение закончилось\n"
     ]
    }
   ],
   "source": [
    "# Обучим методом Nesterov Momentum\n",
    "weight = fit_nest(X_train, y_train, lr, iterations)"
   ]
  },
  {
   "cell_type": "code",
   "execution_count": 150,
   "metadata": {},
   "outputs": [
    {
     "data": {
      "text/plain": [
       "array([0, 0, 0, ..., 0, 0, 0])"
      ]
     },
     "execution_count": 150,
     "metadata": {},
     "output_type": "execute_result"
    }
   ],
   "source": [
    "# Получение предсказания для X_test\n",
    "predict(X_test, weight)"
   ]
  },
  {
   "cell_type": "code",
   "execution_count": 151,
   "metadata": {},
   "outputs": [
    {
     "data": {
      "text/plain": [
       "0.7560587298779409"
      ]
     },
     "execution_count": 151,
     "metadata": {},
     "output_type": "execute_result"
    }
   ],
   "source": [
    "# Для интереса проверим точность полученной модели\n",
    "accuracy_score(y_test, predict(X_test, weight))"
   ]
  },
  {
   "cell_type": "markdown",
   "metadata": {},
   "source": [
    "## Вывод:\n",
    "Точность такая же получилось 75%"
   ]
  },
  {
   "cell_type": "code",
   "execution_count": 152,
   "metadata": {},
   "outputs": [
    {
     "name": "stdout",
     "output_type": "stream",
     "text": [
      "Обучение закончилось\n"
     ]
    }
   ],
   "source": [
    "# Обучим методом rmsprop\n",
    "weight = fit_rmsprop(X_train, y_train, lr, iterations)"
   ]
  },
  {
   "cell_type": "code",
   "execution_count": 153,
   "metadata": {},
   "outputs": [
    {
     "data": {
      "text/plain": [
       "array([0, 0, 0, ..., 0, 0, 0])"
      ]
     },
     "execution_count": 153,
     "metadata": {},
     "output_type": "execute_result"
    }
   ],
   "source": [
    "# Получение предсказания для X_test\n",
    "predict(X_test, weight)"
   ]
  },
  {
   "cell_type": "code",
   "execution_count": 154,
   "metadata": {},
   "outputs": [
    {
     "data": {
      "text/plain": [
       "0.7799398549442774"
      ]
     },
     "execution_count": 154,
     "metadata": {},
     "output_type": "execute_result"
    }
   ],
   "source": [
    "# Для интереса проверим точность полученной модели\n",
    "accuracy_score(y_test, predict(X_test, weight))"
   ]
  },
  {
   "cell_type": "markdown",
   "metadata": {},
   "source": [
    "## Вывод:\n",
    "Точность чуть выше получилась почти 78%"
   ]
  }
 ],
 "metadata": {
  "hide_input": false,
  "kernelspec": {
   "display_name": "Python 3",
   "language": "python",
   "name": "python3"
  },
  "language_info": {
   "codemirror_mode": {
    "name": "ipython",
    "version": 3
   },
   "file_extension": ".py",
   "mimetype": "text/x-python",
   "name": "python",
   "nbconvert_exporter": "python",
   "pygments_lexer": "ipython3",
   "version": "3.8.5"
  }
 },
 "nbformat": 4,
 "nbformat_minor": 4
}
