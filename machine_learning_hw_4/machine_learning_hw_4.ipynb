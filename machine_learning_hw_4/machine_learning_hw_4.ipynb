{
 "cells": [
  {
   "cell_type": "markdown",
   "metadata": {},
   "source": [
    "# Домашнее задание \"Проблема качества данных\""
   ]
  },
  {
   "cell_type": "code",
   "execution_count": 175,
   "metadata": {},
   "outputs": [],
   "source": [
    "import numpy as np\n",
    "import pandas as pd\n",
    "import warnings\n",
    "warnings.simplefilter(action='ignore', category=FutureWarning)"
   ]
  },
  {
   "cell_type": "markdown",
   "metadata": {},
   "source": [
    "Создаем датафрейм. Датафрейм с данными по футболистам и их трансферной стоимостью.\\\n",
    "Научимся предсказывать стоимость футболиста"
   ]
  },
  {
   "cell_type": "code",
   "execution_count": 176,
   "metadata": {},
   "outputs": [],
   "source": [
    "# Сгенерируем год рождения\n",
    "year = [np.random.randint(1980, 2015) for sample in range(0,10000)]\n",
    "\n",
    "# Страна рождения\n",
    "list_country = ['Brazil', 'Argentina', 'Spain', 'England', 'France', 'Italy', 'Portugal', 'Germany', 'Belgium', 'Serbia', 'Croatia', 'Netherlands']\n",
    "country = [np.random.choice(list_country) for sample in range(0,10000)]\n",
    "\n",
    "# Количество сыгранных матчей за клуб\n",
    "play_match = [np.random.randint(50, 1100) for sample in range(0,10000)]\n",
    "\n",
    "# Количество сыгранных матчей за сборную страны\n",
    "country_play_match = [np.random.randint(1, 100) for sample in range(0,10000)]\n",
    "\n",
    "# Количество забитых мячей за клуб\n",
    "goals = [np.random.randint(0, 300) for sample in range(0,10000)]\n",
    "\n",
    "# Количество забитых мячей за сборную\n",
    "country_goals = [np.random.randint(0, 100) for sample in range(0,10000)]\n",
    "\n",
    "# Количество голевых передач\n",
    "passes = [np.random.randint(0, 150) for sample in range(0,10000)]\n",
    "\n",
    "# Количество отборов\n",
    "hits = [np.random.randint(0, 3500) for sample in range(0,10000)]\n",
    "\n",
    "# Количество сейвов ворот\n",
    "saves = [np.random.randint(0, 5000) for sample in range(0,10000)]\n",
    "\n",
    "# Количество пропущенных мячей за клуб\n",
    "lost_goals = [np.random.randint(0, 1500) for sample in range(0,10000)]\n",
    "\n",
    "# Количество пропущенных мячей за клуб\n",
    "country_lost_goals = [np.random.randint(0, 150) for sample in range(0,10000)]\n",
    "\n",
    "# Позиция на поле\n",
    "list_position = ['goalkeeper', 'defender', 'midfielder', 'striker']\n",
    "position = [np.random.choice(list_position) for sample in range(0,10000)]\n"
   ]
  },
  {
   "cell_type": "markdown",
   "metadata": {},
   "source": [
    "Рассчитаем целевое значение - Трансферная стоимость \\\n",
    "У каждой позиции трансферная стоимость строиться по собственной формуле, потому что разные качества игроков нужны"
   ]
  },
  {
   "cell_type": "code",
   "execution_count": 203,
   "metadata": {},
   "outputs": [],
   "source": [
    "def cost_goalkeeper(year, saves, play_match, country_play_match, lost_goals, country_lost_goals):\n",
    "    return (0.3*(2021 - year) + 10*saves/play_match + 0.1*play_match - 3*lost_goals/play_match - 3*country_lost_goals/country_play_match)*100000\n",
    "\n",
    "def cost_defender(year, goals, country_goals, passes, hits,  play_match, country_play_match, lost_goals, country_lost_goals):\n",
    "    return (0.4*(2021 - year) + goals/play_match + 1.5*country_goals/country_play_match + passes/play_match + 5*hits/play_match + 0.1*play_match - 0.5*lost_goals/play_match - 0.5*country_lost_goals/country_play_match)*100000\n",
    "\n",
    "def cost_midfielder(year, goals, country_goals, passes, hits, play_match, country_play_match):\n",
    "    return (0.4*(2021 - year) + 2*goals/play_match + 2*country_goals/country_play_match + 4*passes/play_match + 2*hits/play_match + 0.1*play_match)*100000\n",
    "\n",
    "def cost_striker(year, goals, country_goals, passes, play_match, country_play_match):\n",
    "    return (0.4*(2021 - year) + 7*goals/play_match +7*country_goals/country_play_match + 4*passes/play_match + 0.1*play_match)*1000000\n",
    "\n",
    "footbal_price = []\n",
    "\n",
    "for y, pm, cpm, g, cg, p, h, s, lg, clg, pos in zip(year, play_match, country_play_match, goals, country_goals, passes, hits, saves, lost_goals, country_lost_goals, position):\n",
    "    if pos == 'goalkeeper':\n",
    "        price = cost_goalkeeper(y, s, pm, cpm, lg, clg)\n",
    "    \n",
    "    elif pos == 'defender':\n",
    "        price = cost_defender(y, g, cg, p, h, pm, cpm, lg, clg)\n",
    "    \n",
    "    elif pos == 'midfielder':\n",
    "        price = cost_midfielder(y, g, cg, p, h, pm, cpm)\n",
    "    \n",
    "    elif pos == 'striker':\n",
    "        price = cost_striker(y, g, cg, p, pm, cpm)\n",
    "        \n",
    "    footbal_price.append(int(price))\n"
   ]
  },
  {
   "cell_type": "code",
   "execution_count": 204,
   "metadata": {},
   "outputs": [
    {
     "data": {
      "text/html": [
       "<div>\n",
       "<style scoped>\n",
       "    .dataframe tbody tr th:only-of-type {\n",
       "        vertical-align: middle;\n",
       "    }\n",
       "\n",
       "    .dataframe tbody tr th {\n",
       "        vertical-align: top;\n",
       "    }\n",
       "\n",
       "    .dataframe thead th {\n",
       "        text-align: right;\n",
       "    }\n",
       "</style>\n",
       "<table border=\"1\" class=\"dataframe\">\n",
       "  <thead>\n",
       "    <tr style=\"text-align: right;\">\n",
       "      <th></th>\n",
       "      <th>Year</th>\n",
       "      <th>Country</th>\n",
       "      <th>Play_match</th>\n",
       "      <th>Country_play_match</th>\n",
       "      <th>Goals</th>\n",
       "      <th>Country_goals</th>\n",
       "      <th>Passes</th>\n",
       "      <th>Hits</th>\n",
       "      <th>Saves</th>\n",
       "      <th>Lost_goals</th>\n",
       "      <th>Country_lost_goals</th>\n",
       "      <th>Position</th>\n",
       "      <th>Price</th>\n",
       "    </tr>\n",
       "  </thead>\n",
       "  <tbody>\n",
       "    <tr>\n",
       "      <th>0</th>\n",
       "      <td>2013</td>\n",
       "      <td>Germany</td>\n",
       "      <td>76</td>\n",
       "      <td>36</td>\n",
       "      <td>189</td>\n",
       "      <td>20</td>\n",
       "      <td>17</td>\n",
       "      <td>3354</td>\n",
       "      <td>2475</td>\n",
       "      <td>100</td>\n",
       "      <td>52</td>\n",
       "      <td>striker</td>\n",
       "      <td>32991520</td>\n",
       "    </tr>\n",
       "    <tr>\n",
       "      <th>1</th>\n",
       "      <td>2003</td>\n",
       "      <td>Italy</td>\n",
       "      <td>397</td>\n",
       "      <td>83</td>\n",
       "      <td>283</td>\n",
       "      <td>66</td>\n",
       "      <td>59</td>\n",
       "      <td>609</td>\n",
       "      <td>666</td>\n",
       "      <td>1047</td>\n",
       "      <td>116</td>\n",
       "      <td>defender</td>\n",
       "      <td>5460682</td>\n",
       "    </tr>\n",
       "    <tr>\n",
       "      <th>2</th>\n",
       "      <td>1989</td>\n",
       "      <td>France</td>\n",
       "      <td>555</td>\n",
       "      <td>60</td>\n",
       "      <td>167</td>\n",
       "      <td>93</td>\n",
       "      <td>62</td>\n",
       "      <td>2875</td>\n",
       "      <td>1377</td>\n",
       "      <td>1471</td>\n",
       "      <td>137</td>\n",
       "      <td>defender</td>\n",
       "      <td>9447162</td>\n",
       "    </tr>\n",
       "    <tr>\n",
       "      <th>3</th>\n",
       "      <td>1983</td>\n",
       "      <td>Germany</td>\n",
       "      <td>358</td>\n",
       "      <td>85</td>\n",
       "      <td>57</td>\n",
       "      <td>40</td>\n",
       "      <td>101</td>\n",
       "      <td>1349</td>\n",
       "      <td>1099</td>\n",
       "      <td>207</td>\n",
       "      <td>104</td>\n",
       "      <td>goalkeeper</td>\n",
       "      <td>7249309</td>\n",
       "    </tr>\n",
       "    <tr>\n",
       "      <th>4</th>\n",
       "      <td>2008</td>\n",
       "      <td>Italy</td>\n",
       "      <td>169</td>\n",
       "      <td>47</td>\n",
       "      <td>288</td>\n",
       "      <td>79</td>\n",
       "      <td>109</td>\n",
       "      <td>1529</td>\n",
       "      <td>581</td>\n",
       "      <td>1057</td>\n",
       "      <td>146</td>\n",
       "      <td>defender</td>\n",
       "      <td>6752666</td>\n",
       "    </tr>\n",
       "  </tbody>\n",
       "</table>\n",
       "</div>"
      ],
      "text/plain": [
       "   Year  Country  Play_match  Country_play_match  Goals  Country_goals  \\\n",
       "0  2013  Germany          76                  36    189             20   \n",
       "1  2003    Italy         397                  83    283             66   \n",
       "2  1989   France         555                  60    167             93   \n",
       "3  1983  Germany         358                  85     57             40   \n",
       "4  2008    Italy         169                  47    288             79   \n",
       "\n",
       "   Passes  Hits  Saves  Lost_goals  Country_lost_goals    Position     Price  \n",
       "0      17  3354   2475         100                  52     striker  32991520  \n",
       "1      59   609    666        1047                 116    defender   5460682  \n",
       "2      62  2875   1377        1471                 137    defender   9447162  \n",
       "3     101  1349   1099         207                 104  goalkeeper   7249309  \n",
       "4     109  1529    581        1057                 146    defender   6752666  "
      ]
     },
     "execution_count": 204,
     "metadata": {},
     "output_type": "execute_result"
    }
   ],
   "source": [
    "football_df = pd.DataFrame({'Year': year, 'Country': country, 'Play_match': play_match, \n",
    "                            'Country_play_match': country_play_match, 'Goals': goals, \n",
    "                            'Country_goals': country_goals, 'Passes': passes, 'Hits': hits, 'Saves': saves,\n",
    "                            'Lost_goals': lost_goals, 'Country_lost_goals': country_lost_goals, \n",
    "                            'Position': position, 'Price': footbal_price})\n",
    "football_df.head()"
   ]
  },
  {
   "cell_type": "code",
   "execution_count": 205,
   "metadata": {},
   "outputs": [
    {
     "name": "stdout",
     "output_type": "stream",
     "text": [
      "<class 'pandas.core.frame.DataFrame'>\n",
      "RangeIndex: 10000 entries, 0 to 9999\n",
      "Data columns (total 13 columns):\n",
      " #   Column              Non-Null Count  Dtype \n",
      "---  ------              --------------  ----- \n",
      " 0   Year                10000 non-null  int64 \n",
      " 1   Country             10000 non-null  object\n",
      " 2   Play_match          10000 non-null  int64 \n",
      " 3   Country_play_match  10000 non-null  int64 \n",
      " 4   Goals               10000 non-null  int64 \n",
      " 5   Country_goals       10000 non-null  int64 \n",
      " 6   Passes              10000 non-null  int64 \n",
      " 7   Hits                10000 non-null  int64 \n",
      " 8   Saves               10000 non-null  int64 \n",
      " 9   Lost_goals          10000 non-null  int64 \n",
      " 10  Country_lost_goals  10000 non-null  int64 \n",
      " 11  Position            10000 non-null  object\n",
      " 12  Price               10000 non-null  int64 \n",
      "dtypes: int64(11), object(2)\n",
      "memory usage: 1015.8+ KB\n"
     ]
    }
   ],
   "source": [
    "football_df.info()"
   ]
  },
  {
   "cell_type": "markdown",
   "metadata": {},
   "source": [
    "Добавим пропущенных значения и анамалии"
   ]
  },
  {
   "cell_type": "code",
   "execution_count": 206,
   "metadata": {},
   "outputs": [],
   "source": [
    "# Пропуски данных\n",
    "for i in range(50):\n",
    "    football_df.loc[np.random.randint(0,1000), np.random.choice(football_df.columns)] = np.nan\n",
    "\n",
    "# Добавим анамалии\n",
    "for i in range(2):\n",
    "    football_df.loc[np.random.randint(0,1000), 'Year'] = 1900\n",
    "\n",
    "for i in range(3):\n",
    "    football_df.loc[np.random.randint(0,1000), 'Play_match'] = 10000\n",
    "\n",
    "for i in range(5):\n",
    "    football_df.loc[np.random.randint(0,1000), 'Goals'] = 10000\n",
    "\n",
    "for i in range(5):\n",
    "    football_df.loc[np.random.randint(0,1000), 'Passes'] = 10000\n"
   ]
  },
  {
   "cell_type": "code",
   "execution_count": 207,
   "metadata": {},
   "outputs": [
    {
     "data": {
      "text/html": [
       "<div>\n",
       "<style scoped>\n",
       "    .dataframe tbody tr th:only-of-type {\n",
       "        vertical-align: middle;\n",
       "    }\n",
       "\n",
       "    .dataframe tbody tr th {\n",
       "        vertical-align: top;\n",
       "    }\n",
       "\n",
       "    .dataframe thead th {\n",
       "        text-align: right;\n",
       "    }\n",
       "</style>\n",
       "<table border=\"1\" class=\"dataframe\">\n",
       "  <thead>\n",
       "    <tr style=\"text-align: right;\">\n",
       "      <th></th>\n",
       "      <th>Year</th>\n",
       "      <th>Country</th>\n",
       "      <th>Play_match</th>\n",
       "      <th>Country_play_match</th>\n",
       "      <th>Goals</th>\n",
       "      <th>Country_goals</th>\n",
       "      <th>Passes</th>\n",
       "      <th>Hits</th>\n",
       "      <th>Saves</th>\n",
       "      <th>Lost_goals</th>\n",
       "      <th>Country_lost_goals</th>\n",
       "      <th>Position</th>\n",
       "      <th>Price</th>\n",
       "    </tr>\n",
       "  </thead>\n",
       "  <tbody>\n",
       "    <tr>\n",
       "      <th>0</th>\n",
       "      <td>2013.0</td>\n",
       "      <td>Germany</td>\n",
       "      <td>76.0</td>\n",
       "      <td>36.0</td>\n",
       "      <td>189.0</td>\n",
       "      <td>20.0</td>\n",
       "      <td>NaN</td>\n",
       "      <td>3354.0</td>\n",
       "      <td>2475.0</td>\n",
       "      <td>100.0</td>\n",
       "      <td>52.0</td>\n",
       "      <td>striker</td>\n",
       "      <td>32991520.0</td>\n",
       "    </tr>\n",
       "    <tr>\n",
       "      <th>1</th>\n",
       "      <td>2003.0</td>\n",
       "      <td>Italy</td>\n",
       "      <td>397.0</td>\n",
       "      <td>83.0</td>\n",
       "      <td>283.0</td>\n",
       "      <td>66.0</td>\n",
       "      <td>59.0</td>\n",
       "      <td>609.0</td>\n",
       "      <td>666.0</td>\n",
       "      <td>1047.0</td>\n",
       "      <td>116.0</td>\n",
       "      <td>defender</td>\n",
       "      <td>5460682.0</td>\n",
       "    </tr>\n",
       "    <tr>\n",
       "      <th>2</th>\n",
       "      <td>1989.0</td>\n",
       "      <td>France</td>\n",
       "      <td>555.0</td>\n",
       "      <td>60.0</td>\n",
       "      <td>167.0</td>\n",
       "      <td>93.0</td>\n",
       "      <td>62.0</td>\n",
       "      <td>2875.0</td>\n",
       "      <td>1377.0</td>\n",
       "      <td>1471.0</td>\n",
       "      <td>137.0</td>\n",
       "      <td>defender</td>\n",
       "      <td>9447162.0</td>\n",
       "    </tr>\n",
       "    <tr>\n",
       "      <th>3</th>\n",
       "      <td>1983.0</td>\n",
       "      <td>Germany</td>\n",
       "      <td>358.0</td>\n",
       "      <td>85.0</td>\n",
       "      <td>57.0</td>\n",
       "      <td>40.0</td>\n",
       "      <td>101.0</td>\n",
       "      <td>1349.0</td>\n",
       "      <td>1099.0</td>\n",
       "      <td>207.0</td>\n",
       "      <td>104.0</td>\n",
       "      <td>goalkeeper</td>\n",
       "      <td>7249309.0</td>\n",
       "    </tr>\n",
       "    <tr>\n",
       "      <th>4</th>\n",
       "      <td>2008.0</td>\n",
       "      <td>Italy</td>\n",
       "      <td>169.0</td>\n",
       "      <td>47.0</td>\n",
       "      <td>288.0</td>\n",
       "      <td>79.0</td>\n",
       "      <td>109.0</td>\n",
       "      <td>1529.0</td>\n",
       "      <td>581.0</td>\n",
       "      <td>1057.0</td>\n",
       "      <td>146.0</td>\n",
       "      <td>defender</td>\n",
       "      <td>6752666.0</td>\n",
       "    </tr>\n",
       "    <tr>\n",
       "      <th>...</th>\n",
       "      <td>...</td>\n",
       "      <td>...</td>\n",
       "      <td>...</td>\n",
       "      <td>...</td>\n",
       "      <td>...</td>\n",
       "      <td>...</td>\n",
       "      <td>...</td>\n",
       "      <td>...</td>\n",
       "      <td>...</td>\n",
       "      <td>...</td>\n",
       "      <td>...</td>\n",
       "      <td>...</td>\n",
       "      <td>...</td>\n",
       "    </tr>\n",
       "    <tr>\n",
       "      <th>9995</th>\n",
       "      <td>1983.0</td>\n",
       "      <td>Belgium</td>\n",
       "      <td>883.0</td>\n",
       "      <td>34.0</td>\n",
       "      <td>249.0</td>\n",
       "      <td>20.0</td>\n",
       "      <td>15.0</td>\n",
       "      <td>2474.0</td>\n",
       "      <td>2646.0</td>\n",
       "      <td>426.0</td>\n",
       "      <td>137.0</td>\n",
       "      <td>goalkeeper</td>\n",
       "      <td>11613045.0</td>\n",
       "    </tr>\n",
       "    <tr>\n",
       "      <th>9996</th>\n",
       "      <td>2003.0</td>\n",
       "      <td>Croatia</td>\n",
       "      <td>106.0</td>\n",
       "      <td>71.0</td>\n",
       "      <td>191.0</td>\n",
       "      <td>98.0</td>\n",
       "      <td>77.0</td>\n",
       "      <td>1682.0</td>\n",
       "      <td>261.0</td>\n",
       "      <td>921.0</td>\n",
       "      <td>75.0</td>\n",
       "      <td>goalkeeper</td>\n",
       "      <td>1138758.0</td>\n",
       "    </tr>\n",
       "    <tr>\n",
       "      <th>9997</th>\n",
       "      <td>2008.0</td>\n",
       "      <td>Portugal</td>\n",
       "      <td>856.0</td>\n",
       "      <td>59.0</td>\n",
       "      <td>137.0</td>\n",
       "      <td>16.0</td>\n",
       "      <td>116.0</td>\n",
       "      <td>574.0</td>\n",
       "      <td>14.0</td>\n",
       "      <td>1348.0</td>\n",
       "      <td>92.0</td>\n",
       "      <td>midfielder</td>\n",
       "      <td>9354564.0</td>\n",
       "    </tr>\n",
       "    <tr>\n",
       "      <th>9998</th>\n",
       "      <td>1989.0</td>\n",
       "      <td>Brazil</td>\n",
       "      <td>387.0</td>\n",
       "      <td>5.0</td>\n",
       "      <td>50.0</td>\n",
       "      <td>41.0</td>\n",
       "      <td>5.0</td>\n",
       "      <td>2435.0</td>\n",
       "      <td>3362.0</td>\n",
       "      <td>57.0</td>\n",
       "      <td>59.0</td>\n",
       "      <td>striker</td>\n",
       "      <td>109856072.0</td>\n",
       "    </tr>\n",
       "    <tr>\n",
       "      <th>9999</th>\n",
       "      <td>1996.0</td>\n",
       "      <td>France</td>\n",
       "      <td>690.0</td>\n",
       "      <td>47.0</td>\n",
       "      <td>222.0</td>\n",
       "      <td>55.0</td>\n",
       "      <td>75.0</td>\n",
       "      <td>2687.0</td>\n",
       "      <td>4222.0</td>\n",
       "      <td>1426.0</td>\n",
       "      <td>101.0</td>\n",
       "      <td>goalkeeper</td>\n",
       "      <td>12504159.0</td>\n",
       "    </tr>\n",
       "  </tbody>\n",
       "</table>\n",
       "<p>10000 rows × 13 columns</p>\n",
       "</div>"
      ],
      "text/plain": [
       "        Year   Country  Play_match  Country_play_match  Goals  Country_goals  \\\n",
       "0     2013.0   Germany        76.0                36.0  189.0           20.0   \n",
       "1     2003.0     Italy       397.0                83.0  283.0           66.0   \n",
       "2     1989.0    France       555.0                60.0  167.0           93.0   \n",
       "3     1983.0   Germany       358.0                85.0   57.0           40.0   \n",
       "4     2008.0     Italy       169.0                47.0  288.0           79.0   \n",
       "...      ...       ...         ...                 ...    ...            ...   \n",
       "9995  1983.0   Belgium       883.0                34.0  249.0           20.0   \n",
       "9996  2003.0   Croatia       106.0                71.0  191.0           98.0   \n",
       "9997  2008.0  Portugal       856.0                59.0  137.0           16.0   \n",
       "9998  1989.0    Brazil       387.0                 5.0   50.0           41.0   \n",
       "9999  1996.0    France       690.0                47.0  222.0           55.0   \n",
       "\n",
       "      Passes    Hits   Saves  Lost_goals  Country_lost_goals    Position  \\\n",
       "0        NaN  3354.0  2475.0       100.0                52.0     striker   \n",
       "1       59.0   609.0   666.0      1047.0               116.0    defender   \n",
       "2       62.0  2875.0  1377.0      1471.0               137.0    defender   \n",
       "3      101.0  1349.0  1099.0       207.0               104.0  goalkeeper   \n",
       "4      109.0  1529.0   581.0      1057.0               146.0    defender   \n",
       "...      ...     ...     ...         ...                 ...         ...   \n",
       "9995    15.0  2474.0  2646.0       426.0               137.0  goalkeeper   \n",
       "9996    77.0  1682.0   261.0       921.0                75.0  goalkeeper   \n",
       "9997   116.0   574.0    14.0      1348.0                92.0  midfielder   \n",
       "9998     5.0  2435.0  3362.0        57.0                59.0     striker   \n",
       "9999    75.0  2687.0  4222.0      1426.0               101.0  goalkeeper   \n",
       "\n",
       "            Price  \n",
       "0      32991520.0  \n",
       "1       5460682.0  \n",
       "2       9447162.0  \n",
       "3       7249309.0  \n",
       "4       6752666.0  \n",
       "...           ...  \n",
       "9995   11613045.0  \n",
       "9996    1138758.0  \n",
       "9997    9354564.0  \n",
       "9998  109856072.0  \n",
       "9999   12504159.0  \n",
       "\n",
       "[10000 rows x 13 columns]"
      ]
     },
     "execution_count": 207,
     "metadata": {},
     "output_type": "execute_result"
    }
   ],
   "source": [
    "football_df"
   ]
  },
  {
   "cell_type": "code",
   "execution_count": 208,
   "metadata": {},
   "outputs": [
    {
     "name": "stdout",
     "output_type": "stream",
     "text": [
      "<class 'pandas.core.frame.DataFrame'>\n",
      "RangeIndex: 10000 entries, 0 to 9999\n",
      "Data columns (total 13 columns):\n",
      " #   Column              Non-Null Count  Dtype  \n",
      "---  ------              --------------  -----  \n",
      " 0   Year                9998 non-null   float64\n",
      " 1   Country             9995 non-null   object \n",
      " 2   Play_match          9993 non-null   float64\n",
      " 3   Country_play_match  9998 non-null   float64\n",
      " 4   Goals               9995 non-null   float64\n",
      " 5   Country_goals       9996 non-null   float64\n",
      " 6   Passes              9997 non-null   float64\n",
      " 7   Hits                9995 non-null   float64\n",
      " 8   Saves               9995 non-null   float64\n",
      " 9   Lost_goals          9997 non-null   float64\n",
      " 10  Country_lost_goals  9997 non-null   float64\n",
      " 11  Position            9997 non-null   object \n",
      " 12  Price               9997 non-null   float64\n",
      "dtypes: float64(11), object(2)\n",
      "memory usage: 1015.8+ KB\n"
     ]
    }
   ],
   "source": [
    "football_df.info()"
   ]
  },
  {
   "cell_type": "markdown",
   "metadata": {},
   "source": [
    "Пропуски есть - для обучения модели их нужно устранить.\\\n",
    "Для начала просто удалим и посмотрим насколько сильно уменьшаться данные"
   ]
  },
  {
   "cell_type": "code",
   "execution_count": 209,
   "metadata": {},
   "outputs": [
    {
     "name": "stdout",
     "output_type": "stream",
     "text": [
      "<class 'pandas.core.frame.DataFrame'>\n",
      "Int64Index: 9950 entries, 1 to 9999\n",
      "Data columns (total 13 columns):\n",
      " #   Column              Non-Null Count  Dtype  \n",
      "---  ------              --------------  -----  \n",
      " 0   Year                9950 non-null   float64\n",
      " 1   Country             9950 non-null   object \n",
      " 2   Play_match          9950 non-null   float64\n",
      " 3   Country_play_match  9950 non-null   float64\n",
      " 4   Goals               9950 non-null   float64\n",
      " 5   Country_goals       9950 non-null   float64\n",
      " 6   Passes              9950 non-null   float64\n",
      " 7   Hits                9950 non-null   float64\n",
      " 8   Saves               9950 non-null   float64\n",
      " 9   Lost_goals          9950 non-null   float64\n",
      " 10  Country_lost_goals  9950 non-null   float64\n",
      " 11  Position            9950 non-null   object \n",
      " 12  Price               9950 non-null   float64\n",
      "dtypes: float64(11), object(2)\n",
      "memory usage: 1.1+ MB\n"
     ]
    }
   ],
   "source": [
    "football_df.dropna(inplace=True)\n",
    "football_df.info()"
   ]
  },
  {
   "cell_type": "markdown",
   "metadata": {},
   "source": [
    "Осталось 9950 строк данных - 5% убралось. Процент небольшой, оставим так"
   ]
  },
  {
   "cell_type": "markdown",
   "metadata": {},
   "source": [
    "Начнем работать с данными.\\\n",
    "Для начала построим модель по имеющимся данным.\\\n",
    "Категорийные переменные Country, Position попутно переделаем в числовое."
   ]
  },
  {
   "cell_type": "code",
   "execution_count": 210,
   "metadata": {},
   "outputs": [],
   "source": [
    "X = football_df[['Year', 'Country', 'Play_match', 'Country_play_match', 'Goals',\n",
    "       'Country_goals', 'Passes', 'Hits', 'Saves', 'Lost_goals',\n",
    "       'Country_lost_goals', 'Position']]\n",
    "\n",
    "X = pd.get_dummies(X, columns = ['Country',  'Position'])\n",
    "\n",
    "y = football_df['Price']"
   ]
  },
  {
   "cell_type": "code",
   "execution_count": 211,
   "metadata": {},
   "outputs": [],
   "source": [
    "from sklearn.linear_model import LinearRegression\n",
    "from sklearn.model_selection import train_test_split\n",
    "\n",
    "X_train, X_test, y_train, y_test = train_test_split(X, y, test_size=0.25, random_state=42) # Делим выборки"
   ]
  },
  {
   "cell_type": "code",
   "execution_count": 212,
   "metadata": {},
   "outputs": [
    {
     "data": {
      "text/plain": [
       "LinearRegression()"
      ]
     },
     "execution_count": 212,
     "metadata": {},
     "output_type": "execute_result"
    }
   ],
   "source": [
    "model = LinearRegression()\n",
    "\n",
    "model.fit(X_train, y_train)"
   ]
  },
  {
   "cell_type": "markdown",
   "metadata": {},
   "source": [
    "Проверим встроенными методами на качество на тестовой выборки"
   ]
  },
  {
   "cell_type": "code",
   "execution_count": 213,
   "metadata": {},
   "outputs": [
    {
     "data": {
      "text/plain": [
       "0.5846870125957193"
      ]
     },
     "execution_count": 213,
     "metadata": {},
     "output_type": "execute_result"
    }
   ],
   "source": [
    "model.score(X_test, y_test)"
   ]
  },
  {
   "cell_type": "markdown",
   "metadata": {},
   "source": [
    "Качество весьма низкое.\\\n",
    "Но попробуем улучшить манипулируя данные для обучения."
   ]
  },
  {
   "cell_type": "markdown",
   "metadata": {},
   "source": [
    "Предположим, что мы находимся в идеальном мире и талант игрока не зависит от страны рождения.\\\n",
    "Удалим ее и переобучим модель"
   ]
  },
  {
   "cell_type": "code",
   "execution_count": 214,
   "metadata": {},
   "outputs": [
    {
     "data": {
      "text/plain": [
       "0.5838830178122333"
      ]
     },
     "execution_count": 214,
     "metadata": {},
     "output_type": "execute_result"
    }
   ],
   "source": [
    "X = football_df[['Year', 'Play_match', 'Country_play_match', 'Goals',\n",
    "       'Country_goals', 'Passes', 'Hits', 'Saves', 'Lost_goals',\n",
    "       'Country_lost_goals', 'Position']]\n",
    "\n",
    "X = pd.get_dummies(X, columns = ['Position'])\n",
    "\n",
    "y = football_df['Price']\n",
    "\n",
    "X_train, X_test, y_train, y_test = train_test_split(X, y, test_size=0.25, random_state=42) # Делим выборки\n",
    "\n",
    "model = LinearRegression()\n",
    "\n",
    "model.fit(X_train, y_train)\n",
    "\n",
    "model.score(X_test, y_test)\n"
   ]
  },
  {
   "cell_type": "markdown",
   "metadata": {},
   "source": [
    "Качество стало даже чуть чуть хуже.\\\n",
    "Но оставим так - в нашей картине мира страна - не влияет"
   ]
  },
  {
   "cell_type": "markdown",
   "metadata": {
    "slideshow": {
     "slide_type": "fragment"
    }
   },
   "source": [
    "Проверим нет ли анамалий и выбросов в данных.\\\n",
    "Посмотрим на базовые метрики"
   ]
  },
  {
   "cell_type": "code",
   "execution_count": 215,
   "metadata": {},
   "outputs": [
    {
     "data": {
      "text/html": [
       "<div>\n",
       "<style scoped>\n",
       "    .dataframe tbody tr th:only-of-type {\n",
       "        vertical-align: middle;\n",
       "    }\n",
       "\n",
       "    .dataframe tbody tr th {\n",
       "        vertical-align: top;\n",
       "    }\n",
       "\n",
       "    .dataframe thead th {\n",
       "        text-align: right;\n",
       "    }\n",
       "</style>\n",
       "<table border=\"1\" class=\"dataframe\">\n",
       "  <thead>\n",
       "    <tr style=\"text-align: right;\">\n",
       "      <th></th>\n",
       "      <th>Year</th>\n",
       "      <th>Play_match</th>\n",
       "      <th>Country_play_match</th>\n",
       "      <th>Goals</th>\n",
       "      <th>Country_goals</th>\n",
       "      <th>Passes</th>\n",
       "      <th>Hits</th>\n",
       "      <th>Saves</th>\n",
       "      <th>Lost_goals</th>\n",
       "      <th>Country_lost_goals</th>\n",
       "      <th>Position_defender</th>\n",
       "      <th>Position_goalkeeper</th>\n",
       "      <th>Position_midfielder</th>\n",
       "      <th>Position_striker</th>\n",
       "    </tr>\n",
       "  </thead>\n",
       "  <tbody>\n",
       "    <tr>\n",
       "      <th>count</th>\n",
       "      <td>9950.000000</td>\n",
       "      <td>9950.000000</td>\n",
       "      <td>9950.000000</td>\n",
       "      <td>9950.000000</td>\n",
       "      <td>9950.000000</td>\n",
       "      <td>9950.000000</td>\n",
       "      <td>9950.000000</td>\n",
       "      <td>9950.000000</td>\n",
       "      <td>9950.000000</td>\n",
       "      <td>9950.000000</td>\n",
       "      <td>9950.000000</td>\n",
       "      <td>9950.000000</td>\n",
       "      <td>9950.000000</td>\n",
       "      <td>9950.000000</td>\n",
       "    </tr>\n",
       "    <tr>\n",
       "      <th>mean</th>\n",
       "      <td>1997.159899</td>\n",
       "      <td>581.069447</td>\n",
       "      <td>49.880905</td>\n",
       "      <td>153.994573</td>\n",
       "      <td>50.074975</td>\n",
       "      <td>79.918693</td>\n",
       "      <td>1753.205226</td>\n",
       "      <td>2495.541206</td>\n",
       "      <td>749.405829</td>\n",
       "      <td>74.864422</td>\n",
       "      <td>0.244121</td>\n",
       "      <td>0.255678</td>\n",
       "      <td>0.244523</td>\n",
       "      <td>0.255678</td>\n",
       "    </tr>\n",
       "    <tr>\n",
       "      <th>std</th>\n",
       "      <td>10.064145</td>\n",
       "      <td>343.628867</td>\n",
       "      <td>28.648131</td>\n",
       "      <td>237.235842</td>\n",
       "      <td>28.885625</td>\n",
       "      <td>226.574952</td>\n",
       "      <td>1014.040217</td>\n",
       "      <td>1440.905198</td>\n",
       "      <td>431.283603</td>\n",
       "      <td>43.344481</td>\n",
       "      <td>0.429586</td>\n",
       "      <td>0.436264</td>\n",
       "      <td>0.429825</td>\n",
       "      <td>0.436264</td>\n",
       "    </tr>\n",
       "    <tr>\n",
       "      <th>min</th>\n",
       "      <td>1900.000000</td>\n",
       "      <td>50.000000</td>\n",
       "      <td>1.000000</td>\n",
       "      <td>0.000000</td>\n",
       "      <td>0.000000</td>\n",
       "      <td>0.000000</td>\n",
       "      <td>0.000000</td>\n",
       "      <td>0.000000</td>\n",
       "      <td>0.000000</td>\n",
       "      <td>0.000000</td>\n",
       "      <td>0.000000</td>\n",
       "      <td>0.000000</td>\n",
       "      <td>0.000000</td>\n",
       "      <td>0.000000</td>\n",
       "    </tr>\n",
       "    <tr>\n",
       "      <th>25%</th>\n",
       "      <td>1989.000000</td>\n",
       "      <td>320.000000</td>\n",
       "      <td>25.000000</td>\n",
       "      <td>74.000000</td>\n",
       "      <td>25.000000</td>\n",
       "      <td>38.000000</td>\n",
       "      <td>868.250000</td>\n",
       "      <td>1247.000000</td>\n",
       "      <td>378.000000</td>\n",
       "      <td>37.000000</td>\n",
       "      <td>0.000000</td>\n",
       "      <td>0.000000</td>\n",
       "      <td>0.000000</td>\n",
       "      <td>0.000000</td>\n",
       "    </tr>\n",
       "    <tr>\n",
       "      <th>50%</th>\n",
       "      <td>1997.000000</td>\n",
       "      <td>581.000000</td>\n",
       "      <td>50.000000</td>\n",
       "      <td>149.000000</td>\n",
       "      <td>50.000000</td>\n",
       "      <td>76.000000</td>\n",
       "      <td>1744.000000</td>\n",
       "      <td>2486.500000</td>\n",
       "      <td>752.000000</td>\n",
       "      <td>75.000000</td>\n",
       "      <td>0.000000</td>\n",
       "      <td>0.000000</td>\n",
       "      <td>0.000000</td>\n",
       "      <td>0.000000</td>\n",
       "    </tr>\n",
       "    <tr>\n",
       "      <th>75%</th>\n",
       "      <td>2006.000000</td>\n",
       "      <td>841.000000</td>\n",
       "      <td>75.000000</td>\n",
       "      <td>224.000000</td>\n",
       "      <td>75.000000</td>\n",
       "      <td>111.750000</td>\n",
       "      <td>2641.000000</td>\n",
       "      <td>3754.750000</td>\n",
       "      <td>1117.000000</td>\n",
       "      <td>112.000000</td>\n",
       "      <td>0.000000</td>\n",
       "      <td>1.000000</td>\n",
       "      <td>0.000000</td>\n",
       "      <td>1.000000</td>\n",
       "    </tr>\n",
       "    <tr>\n",
       "      <th>max</th>\n",
       "      <td>2014.000000</td>\n",
       "      <td>10000.000000</td>\n",
       "      <td>99.000000</td>\n",
       "      <td>10000.000000</td>\n",
       "      <td>99.000000</td>\n",
       "      <td>10000.000000</td>\n",
       "      <td>3499.000000</td>\n",
       "      <td>4999.000000</td>\n",
       "      <td>1499.000000</td>\n",
       "      <td>149.000000</td>\n",
       "      <td>1.000000</td>\n",
       "      <td>1.000000</td>\n",
       "      <td>1.000000</td>\n",
       "      <td>1.000000</td>\n",
       "    </tr>\n",
       "  </tbody>\n",
       "</table>\n",
       "</div>"
      ],
      "text/plain": [
       "              Year    Play_match  Country_play_match         Goals  \\\n",
       "count  9950.000000   9950.000000         9950.000000   9950.000000   \n",
       "mean   1997.159899    581.069447           49.880905    153.994573   \n",
       "std      10.064145    343.628867           28.648131    237.235842   \n",
       "min    1900.000000     50.000000            1.000000      0.000000   \n",
       "25%    1989.000000    320.000000           25.000000     74.000000   \n",
       "50%    1997.000000    581.000000           50.000000    149.000000   \n",
       "75%    2006.000000    841.000000           75.000000    224.000000   \n",
       "max    2014.000000  10000.000000           99.000000  10000.000000   \n",
       "\n",
       "       Country_goals        Passes         Hits        Saves   Lost_goals  \\\n",
       "count    9950.000000   9950.000000  9950.000000  9950.000000  9950.000000   \n",
       "mean       50.074975     79.918693  1753.205226  2495.541206   749.405829   \n",
       "std        28.885625    226.574952  1014.040217  1440.905198   431.283603   \n",
       "min         0.000000      0.000000     0.000000     0.000000     0.000000   \n",
       "25%        25.000000     38.000000   868.250000  1247.000000   378.000000   \n",
       "50%        50.000000     76.000000  1744.000000  2486.500000   752.000000   \n",
       "75%        75.000000    111.750000  2641.000000  3754.750000  1117.000000   \n",
       "max        99.000000  10000.000000  3499.000000  4999.000000  1499.000000   \n",
       "\n",
       "       Country_lost_goals  Position_defender  Position_goalkeeper  \\\n",
       "count         9950.000000        9950.000000          9950.000000   \n",
       "mean            74.864422           0.244121             0.255678   \n",
       "std             43.344481           0.429586             0.436264   \n",
       "min              0.000000           0.000000             0.000000   \n",
       "25%             37.000000           0.000000             0.000000   \n",
       "50%             75.000000           0.000000             0.000000   \n",
       "75%            112.000000           0.000000             1.000000   \n",
       "max            149.000000           1.000000             1.000000   \n",
       "\n",
       "       Position_midfielder  Position_striker  \n",
       "count          9950.000000       9950.000000  \n",
       "mean              0.244523          0.255678  \n",
       "std               0.429825          0.436264  \n",
       "min               0.000000          0.000000  \n",
       "25%               0.000000          0.000000  \n",
       "50%               0.000000          0.000000  \n",
       "75%               0.000000          1.000000  \n",
       "max               1.000000          1.000000  "
      ]
     },
     "execution_count": 215,
     "metadata": {},
     "output_type": "execute_result"
    }
   ],
   "source": [
    "import matplotlib.pyplot as plt\n",
    "\n",
    "X.describe()"
   ]
  },
  {
   "cell_type": "markdown",
   "metadata": {},
   "source": [
    "Из них видно, что в полях Year, Play_match, Goals, Passes есть большие отклонения. К примеру встречается год 1900 \\\n",
    "Визуализируем эти данные и посмотрим много ли их"
   ]
  },
  {
   "cell_type": "code",
   "execution_count": 216,
   "metadata": {},
   "outputs": [
    {
     "data": {
      "text/plain": [
       "<matplotlib.collections.PathCollection at 0x7fc60e2ddf10>"
      ]
     },
     "execution_count": 216,
     "metadata": {},
     "output_type": "execute_result"
    },
    {
     "data": {
      "image/png": "[encoded data removed]",
      "text/plain": [
       "<Figure size 432x288 with 1 Axes>"
      ]
     },
     "metadata": {
      "needs_background": "light"
     },
     "output_type": "display_data"
    }
   ],
   "source": [
    "# Год рождения\n",
    "plt.scatter(X['Year'], y)\n"
   ]
  },
  {
   "cell_type": "code",
   "execution_count": 217,
   "metadata": {},
   "outputs": [
    {
     "data": {
      "text/plain": [
       "<matplotlib.collections.PathCollection at 0x7fc60e2e3e80>"
      ]
     },
     "execution_count": 217,
     "metadata": {},
     "output_type": "execute_result"
    },
    {
     "data": {
      "image/png": "[encoded data removed]",
      "text/plain": [
       "<Figure size 432x288 with 1 Axes>"
      ]
     },
     "metadata": {
      "needs_background": "light"
     },
     "output_type": "display_data"
    }
   ],
   "source": [
    "# Cыгранные матчи\n",
    "plt.scatter(X['Play_match'], y)\n"
   ]
  },
  {
   "cell_type": "code",
   "execution_count": 218,
   "metadata": {},
   "outputs": [
    {
     "data": {
      "text/plain": [
       "<matplotlib.collections.PathCollection at 0x7fc5f04681c0>"
      ]
     },
     "execution_count": 218,
     "metadata": {},
     "output_type": "execute_result"
    },
    {
     "data": {
      "image/png": "[encoded data removed]",
      "text/plain": [
       "<Figure size 432x288 with 1 Axes>"
      ]
     },
     "metadata": {
      "needs_background": "light"
     },
     "output_type": "display_data"
    }
   ],
   "source": [
    "# Забитые голы\n",
    "plt.scatter(X['Goals'], y)"
   ]
  },
  {
   "cell_type": "code",
   "execution_count": 219,
   "metadata": {},
   "outputs": [
    {
     "data": {
      "text/plain": [
       "<matplotlib.collections.PathCollection at 0x7fc5f05042e0>"
      ]
     },
     "execution_count": 219,
     "metadata": {},
     "output_type": "execute_result"
    },
    {
     "data": {
      "image/png": "[encoded data removed]",
      "text/plain": [
       "<Figure size 432x288 with 1 Axes>"
      ]
     },
     "metadata": {
      "needs_background": "light"
     },
     "output_type": "display_data"
    }
   ],
   "source": [
    "# Результативные передачи\n",
    "plt.scatter(X['Passes'], y)"
   ]
  },
  {
   "cell_type": "markdown",
   "metadata": {},
   "source": [
    "Выбросов и анамалий немного. Проще их удалить."
   ]
  },
  {
   "cell_type": "code",
   "execution_count": 220,
   "metadata": {},
   "outputs": [],
   "source": [
    "football_df = football_df.drop(football_df[football_df['Year'] == 1900].index)\n",
    "football_df = football_df.drop(football_df[football_df['Play_match'] == 10000].index)\n",
    "football_df = football_df.drop(football_df[football_df['Goals'] == 10000].index)\n",
    "football_df = football_df.drop(football_df[football_df['Passes'] == 10000].index)\n"
   ]
  },
  {
   "cell_type": "markdown",
   "metadata": {},
   "source": [
    "Обучим теперь модель"
   ]
  },
  {
   "cell_type": "code",
   "execution_count": 221,
   "metadata": {},
   "outputs": [
    {
     "data": {
      "text/plain": [
       "0.6641788690233799"
      ]
     },
     "execution_count": 221,
     "metadata": {},
     "output_type": "execute_result"
    }
   ],
   "source": [
    "X = football_df[['Year', 'Play_match', 'Country_play_match', 'Goals',\n",
    "       'Country_goals', 'Passes', 'Hits', 'Saves', 'Lost_goals',\n",
    "       'Country_lost_goals', 'Position']]\n",
    "\n",
    "X = pd.get_dummies(X, columns = ['Position'])\n",
    "\n",
    "y = football_df['Price']\n",
    "\n",
    "X_train, X_test, y_train, y_test = train_test_split(X, y, test_size=0.25, random_state=42) # Делим выборки\n",
    "\n",
    "model = LinearRegression()\n",
    "\n",
    "model.fit(X_train, y_train)\n",
    "\n",
    "model.score(X_test, y_test)\n"
   ]
  },
  {
   "cell_type": "markdown",
   "metadata": {},
   "source": [
    "Качество серьезно улучшилось до 66%"
   ]
  },
  {
   "cell_type": "markdown",
   "metadata": {},
   "source": [
    "Улучшаем дальше.\\\n",
    "Считать чисто количество голов, пассов, сейвов и пропущенных мячей - не совсем правильно, потому что игрок может сыграть разное количество матчей. Правильней будет учитывать отношение количества голов, пассов, сейвов и пропущенных мячей к количеству сыгранные матчей.\\\n",
    "Посчитаем эти данные и обучим модель на них и сравним результаты"
   ]
  },
  {
   "cell_type": "code",
   "execution_count": 222,
   "metadata": {},
   "outputs": [],
   "source": [
    "football_df['Goals_pers'] = football_df['Goals']/football_df['Play_match']\n",
    "football_df['Goals_country_pers'] = football_df['Country_goals']/football_df['Country_play_match']\n",
    "football_df['Passes_pers'] = football_df['Passes']/football_df['Play_match']\n",
    "football_df['Saves_pers'] = football_df['Saves']/football_df['Play_match']\n",
    "football_df['Lost_goals_pers'] = football_df['Lost_goals']/football_df['Play_match']\n",
    "football_df['Lost_goals_country_pers'] = football_df['Country_lost_goals']/football_df['Country_play_match']\n",
    "football_df['Hits_pers'] = football_df['Hits']/football_df['Play_match']\n"
   ]
  },
  {
   "cell_type": "code",
   "execution_count": 223,
   "metadata": {},
   "outputs": [
    {
     "data": {
      "text/plain": [
       "0.704936966347968"
      ]
     },
     "execution_count": 223,
     "metadata": {},
     "output_type": "execute_result"
    }
   ],
   "source": [
    "X = football_df[['Year', 'Play_match', 'Country_play_match', 'Goals_pers',\n",
    "       'Goals_country_pers', 'Passes_pers', 'Hits_pers', 'Saves_pers', 'Lost_goals_pers',\n",
    "       'Lost_goals_country_pers', 'Position']]\n",
    "\n",
    "X = pd.get_dummies(X, columns = ['Position'])\n",
    "\n",
    "y = football_df['Price']\n",
    "\n",
    "X_train, X_test, y_train, y_test = train_test_split(X, y, test_size=0.25, random_state=42) # Делим выборки\n",
    "\n",
    "model = LinearRegression()\n",
    "\n",
    "model.fit(X_train, y_train)\n",
    "\n",
    "model.score(X_test, y_test)"
   ]
  },
  {
   "cell_type": "markdown",
   "metadata": {},
   "source": [
    "Качество серьезно стало выше. Но думаю это не предел\\\n",
    "Возможно лучше учитывать не год рождения в возраст. Получим его вычев их текущего года"
   ]
  },
  {
   "cell_type": "code",
   "execution_count": 226,
   "metadata": {},
   "outputs": [],
   "source": [
    "football_df['age'] = football_df['Year'].apply(lambda x: 2021 - x)"
   ]
  },
  {
   "cell_type": "markdown",
   "metadata": {},
   "source": [
    "Обучим теперь"
   ]
  },
  {
   "cell_type": "code",
   "execution_count": 227,
   "metadata": {},
   "outputs": [
    {
     "data": {
      "text/plain": [
       "0.7049369663479679"
      ]
     },
     "execution_count": 227,
     "metadata": {},
     "output_type": "execute_result"
    }
   ],
   "source": [
    "X = football_df[['age', 'Play_match', 'Country_play_match', 'Goals_pers',\n",
    "       'Goals_country_pers', 'Passes_pers', 'Hits_pers', 'Saves_pers', 'Lost_goals_pers',\n",
    "       'Lost_goals_country_pers', 'Position']]\n",
    "\n",
    "X = pd.get_dummies(X, columns = ['Position'])\n",
    "\n",
    "y = football_df['Price']\n",
    "\n",
    "X_train, X_test, y_train, y_test = train_test_split(X, y, test_size=0.25, random_state=42) # Делим выборки\n",
    "\n",
    "model = LinearRegression()\n",
    "\n",
    "model.fit(X_train, y_train)\n",
    "\n",
    "model.score(X_test, y_test)"
   ]
  },
  {
   "cell_type": "markdown",
   "metadata": {},
   "source": [
    "Результат почти не изменился"
   ]
  },
  {
   "cell_type": "markdown",
   "metadata": {},
   "source": [
    "Попробуем улучшить далее\\\n",
    "Разделим данные: логично предположить, что стоимость вратаря, защитника, полузащитника и нападающего строится из разные параметров. Считать их в одной моделе - не лучший вариант."
   ]
  },
  {
   "cell_type": "code",
   "execution_count": 228,
   "metadata": {},
   "outputs": [],
   "source": [
    "goalkeeper_df = football_df.where(football_df['Position'] == 'goalkeeper')\n",
    "goalkeeper_df.dropna(inplace=True)\n",
    "\n",
    "defender_df = football_df.where(football_df['Position'] == 'defender')\n",
    "defender_df.dropna(inplace=True)\n",
    "\n",
    "midfielder_df = football_df.where(football_df['Position'] == 'midfielder')\n",
    "midfielder_df.dropna(inplace=True)\n",
    "\n",
    "striker_df = football_df.where(football_df['Position'] == 'striker')\n",
    "striker_df.dropna(inplace=True)\n"
   ]
  },
  {
   "cell_type": "markdown",
   "metadata": {},
   "source": [
    "Поработаем теперь с этими датафреймами отдельно"
   ]
  },
  {
   "cell_type": "markdown",
   "metadata": {},
   "source": [
    "Начнем с вратаря. Логично, что для него не нужны столбцы забитые мячи, голевые передачи, отборы.\\\n",
    "Оставим только вратарские метрики: сыгранные матчи, пропущенные мячи, количество сейвов"
   ]
  },
  {
   "cell_type": "code",
   "execution_count": 234,
   "metadata": {},
   "outputs": [
    {
     "data": {
      "text/plain": [
       "0.999999999999999"
      ]
     },
     "execution_count": 234,
     "metadata": {},
     "output_type": "execute_result"
    }
   ],
   "source": [
    "# Получим стоимость вратаря\n",
    "\n",
    "X = goalkeeper_df[['Year', 'Play_match', 'Country_play_match', 'Saves_pers', 'Lost_goals_pers',\n",
    "       'Lost_goals_country_pers']]\n",
    "\n",
    "y = goalkeeper_df['Price']\n",
    "\n",
    "X_train, X_test, y_train, y_test = train_test_split(X, y, test_size=0.25, random_state=42) # Делим выборки\n",
    "\n",
    "model = LinearRegression()\n",
    "\n",
    "model.fit(X_train, y_train)\n",
    "\n",
    "model.score(X_test, y_test)"
   ]
  },
  {
   "cell_type": "markdown",
   "metadata": {},
   "source": [
    "Далее с защитник. Логично, что для него нужны почти все столбцы, потому что он может и забить, и отдать пас, и если он хорошо играет, то пропускает команда меньше. Ну а главная метрика - отборы"
   ]
  },
  {
   "cell_type": "code",
   "execution_count": 241,
   "metadata": {},
   "outputs": [
    {
     "data": {
      "text/plain": [
       "0.9999999999999918"
      ]
     },
     "execution_count": 241,
     "metadata": {},
     "output_type": "execute_result"
    }
   ],
   "source": [
    "# Получим стоимость защитника\n",
    "\n",
    "X = defender_df[['age', 'Play_match', 'Country_play_match', 'Goals_pers',\n",
    "       'Goals_country_pers', 'Passes_pers', 'Hits_pers', 'Saves_pers', 'Lost_goals_pers',\n",
    "       'Lost_goals_country_pers']]\n",
    "\n",
    "y = defender_df['Price']\n",
    "\n",
    "X_train, X_test, y_train, y_test = train_test_split(X, y, test_size=0.25, random_state=42) # Делим выборки\n",
    "\n",
    "model = LinearRegression()\n",
    "\n",
    "model.fit(X_train, y_train)\n",
    "\n",
    "model.score(X_test, y_test)"
   ]
  },
  {
   "cell_type": "markdown",
   "metadata": {},
   "source": [
    "Полузащитник. Для него не нужны вратарские метрики: сейвы и пропущенные голы"
   ]
  },
  {
   "cell_type": "code",
   "execution_count": 242,
   "metadata": {},
   "outputs": [
    {
     "data": {
      "text/plain": [
       "0.9999999999999898"
      ]
     },
     "execution_count": 242,
     "metadata": {},
     "output_type": "execute_result"
    }
   ],
   "source": [
    "# Получаем стоимость полузащитника\n",
    "\n",
    "X = midfielder_df[['age', 'Play_match', 'Country_play_match', 'Goals_pers',\n",
    "       'Goals_country_pers', 'Passes_pers', 'Hits_pers']]\n",
    "\n",
    "y = midfielder_df['Price']\n",
    "\n",
    "X_train, X_test, y_train, y_test = train_test_split(X, y, test_size=0.25, random_state=42) # Делим выборки\n",
    "\n",
    "model = LinearRegression()\n",
    "\n",
    "model.fit(X_train, y_train)\n",
    "\n",
    "model.score(X_test, y_test)"
   ]
  },
  {
   "cell_type": "markdown",
   "metadata": {},
   "source": [
    "Нападающий. Для него важны голы, голевые передачи"
   ]
  },
  {
   "cell_type": "code",
   "execution_count": 244,
   "metadata": {},
   "outputs": [
    {
     "data": {
      "text/plain": [
       "1.0"
      ]
     },
     "execution_count": 244,
     "metadata": {},
     "output_type": "execute_result"
    }
   ],
   "source": [
    "# Получаем стоимость нападающего\n",
    "\n",
    "X = striker_df[['age', 'Play_match', 'Country_play_match', 'Goals_pers',\n",
    "       'Goals_country_pers', 'Passes_pers']]\n",
    "\n",
    "y = striker_df['Price']\n",
    "\n",
    "X_train, X_test, y_train, y_test = train_test_split(X, y, test_size=0.25, random_state=42) # Делим выборки\n",
    "\n",
    "model = LinearRegression()\n",
    "\n",
    "model.fit(X_train, y_train)\n",
    "\n",
    "model.score(X_test, y_test)"
   ]
  },
  {
   "cell_type": "markdown",
   "metadata": {},
   "source": [
    "Результат получился почти 100% везде. А для нападающих вообще 100%"
   ]
  },
  {
   "cell_type": "markdown",
   "metadata": {},
   "source": [
    "### Итог\n",
    "Начали с качества модели 0.5846870125957193 и манипулируя с исходными данными пришли к качеству в 1.0"
   ]
  }
 ],
 "metadata": {
  "hide_input": false,
  "kernelspec": {
   "display_name": "Python 3",
   "language": "python",
   "name": "python3"
  },
  "language_info": {
   "codemirror_mode": {
    "name": "ipython",
    "version": 3
   },
   "file_extension": ".py",
   "mimetype": "text/x-python",
   "name": "python",
   "nbconvert_exporter": "python",
   "pygments_lexer": "ipython3",
   "version": "3.8.5"
  }
 },
 "nbformat": 4,
 "nbformat_minor": 4
}
