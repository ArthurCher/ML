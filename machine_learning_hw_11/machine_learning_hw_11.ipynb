{
 "cells": [
  {
   "cell_type": "markdown",
   "metadata": {},
   "source": [
    "# Домашнее задание к лекции Улучшение качества модели"
   ]
  },
  {
   "cell_type": "markdown",
   "metadata": {},
   "source": [
    "Взять boston house-prices datase (sklearn.datasets.load_boston), для задачи регрессии попробовать разные алгоритмы, поподбирать параметры, вывести итоговое качество"
   ]
  },
  {
   "cell_type": "code",
   "execution_count": 37,
   "metadata": {},
   "outputs": [],
   "source": [
    "# Подключим датасет и библиотеки\n",
    "from sklearn.datasets import load_boston\n",
    "import numpy as np\n",
    "import warnings\n",
    "\n",
    "warnings.filterwarnings('ignore')"
   ]
  },
  {
   "cell_type": "code",
   "execution_count": 38,
   "metadata": {},
   "outputs": [],
   "source": [
    "# Загрузим данные\n",
    "with warnings.catch_warnings():\n",
    "    warnings.filterwarnings(\"ignore\")\n",
    "    X, y = load_boston(return_X_y=True)"
   ]
  },
  {
   "cell_type": "code",
   "execution_count": 39,
   "metadata": {},
   "outputs": [],
   "source": [
    "# Подключим библиотеки регрессии\n",
    "from sklearn.linear_model import LinearRegression\n",
    "from sklearn.tree import DecisionTreeRegressor\n",
    "from sklearn.tree import ExtraTreeRegressor\n",
    "from sklearn.neighbors import KNeighborsRegressor\n",
    "from sklearn.neighbors import RadiusNeighborsRegressor"
   ]
  },
  {
   "cell_type": "code",
   "execution_count": 40,
   "metadata": {},
   "outputs": [],
   "source": [
    "lr_model = LinearRegression()\n",
    "dt_model = DecisionTreeRegressor()\n",
    "et_model = ExtraTreeRegressor()\n",
    "kn_model = KNeighborsRegressor()\n",
    "rn_model = RadiusNeighborsRegressor()"
   ]
  },
  {
   "cell_type": "code",
   "execution_count": 48,
   "metadata": {},
   "outputs": [],
   "source": [
    "lr_params = {'fit_intercept':[True, False], 'normalize':[True, False]}\n",
    "dt_params = {'min_samples_split':[x for x in range(1,10)], 'min_samples_leaf':[x for x in range(1,10)]}\n",
    "et_params = {'min_samples_split':[x for x in range(1,10)], 'min_samples_leaf':[x for x in range(1,10)]}\n",
    "kn_params = {'n_neighbors': [x for x in range(1,10)], 'weights': ['uniform', 'distance'], 'algorithm': ['auto', 'ball_tree', 'kd_tree', 'brute']}\n",
    "rn_params = {'radius': [x for x in np.arange(0.0, 5.1, 0.2)], 'weights': ['uniform', 'distance'], 'algorithm': ['auto', 'ball_tree', 'kd_tree', 'brute']}\n"
   ]
  },
  {
   "cell_type": "code",
   "execution_count": 49,
   "metadata": {},
   "outputs": [],
   "source": [
    "# Сделаем списки с моделями и параметрами для них\n",
    "list_model = [lr_model, dt_model, et_model, kn_model, rn_model]\n",
    "list_param = [lr_params, dt_params, et_params, kn_params, rn_params]"
   ]
  },
  {
   "cell_type": "code",
   "execution_count": 65,
   "metadata": {},
   "outputs": [
    {
     "name": "stdout",
     "output_type": "stream",
     "text": [
      "LinearRegression()\n",
      "Best score -> 0.2760345915425497\n",
      "Best params -> {'fit_intercept': False, 'normalize': True}\n",
      "Best estimator -> LinearRegression(fit_intercept=False, normalize=True)\n",
      "mean_fit_time : 0.0017441034317016602\n",
      "std_fit_time : 0.0004957044389366591\n",
      "mean_score_time : 0.0006300926208496094\n",
      "std_score_time : 0.000145588458075346\n",
      "param_fit_intercept : True\n",
      "param_normalize : True\n",
      "params : {'fit_intercept': True, 'normalize': True}\n",
      "split0_test_score : 0.733760819350227\n",
      "split1_test_score : 0.4730725033143366\n",
      "split2_test_score : -1.006314543726404\n",
      "split3_test_score : 0.6411398421934933\n",
      "split4_test_score : 0.5476604617627834\n",
      "split5_test_score : 0.7364029190694071\n",
      "split6_test_score : 0.3782838635247935\n",
      "split7_test_score : -0.12922703208877095\n",
      "split8_test_score : -0.768432431438508\n",
      "split9_test_score : 0.41894349864428415\n",
      "mean_test_score : 0.20252899006056416\n",
      "std_test_score : 0.5952960169512276\n",
      "rank_test_score : 3\n",
      "-----------------------------------------------------\n",
      "DecisionTreeRegressor()\n",
      "Best score -> 0.33072603114707894\n",
      "Best params -> {'min_samples_leaf': 9, 'min_samples_split': 7}\n",
      "Best estimator -> DecisionTreeRegressor(min_samples_leaf=9, min_samples_split=7)\n",
      "mean_fit_time : 0.000506591796875\n",
      "std_fit_time : 0.0002005125140875909\n",
      "mean_score_time : 0.0\n",
      "std_score_time : 0.0\n",
      "param_min_samples_leaf : 1\n",
      "param_min_samples_split : 1\n",
      "params : {'min_samples_leaf': 1, 'min_samples_split': 1}\n",
      "split0_test_score : nan\n",
      "split1_test_score : nan\n",
      "split2_test_score : nan\n",
      "split3_test_score : nan\n",
      "split4_test_score : nan\n",
      "split5_test_score : nan\n",
      "split6_test_score : nan\n",
      "split7_test_score : nan\n",
      "split8_test_score : nan\n",
      "split9_test_score : nan\n",
      "mean_test_score : nan\n",
      "std_test_score : nan\n",
      "rank_test_score : 81\n",
      "-----------------------------------------------------\n",
      "ExtraTreeRegressor()\n",
      "Best score -> 0.3918197899335709\n",
      "Best params -> {'min_samples_leaf': 4, 'min_samples_split': 3}\n",
      "Best estimator -> ExtraTreeRegressor(min_samples_leaf=4, min_samples_split=3)\n",
      "mean_fit_time : 0.00045840740203857423\n",
      "std_fit_time : 0.0001102756446439319\n",
      "mean_score_time : 0.0\n",
      "std_score_time : 0.0\n",
      "param_min_samples_leaf : 1\n",
      "param_min_samples_split : 1\n",
      "params : {'min_samples_leaf': 1, 'min_samples_split': 1}\n",
      "split0_test_score : nan\n",
      "split1_test_score : nan\n",
      "split2_test_score : nan\n",
      "split3_test_score : nan\n",
      "split4_test_score : nan\n",
      "split5_test_score : nan\n",
      "split6_test_score : nan\n",
      "split7_test_score : nan\n",
      "split8_test_score : nan\n",
      "split9_test_score : nan\n",
      "mean_test_score : nan\n",
      "std_test_score : nan\n",
      "rank_test_score : 81\n",
      "-----------------------------------------------------\n",
      "KNeighborsRegressor()\n",
      "Best score -> -2.3069196549230475\n",
      "Best params -> {'algorithm': 'auto', 'n_neighbors': 1, 'weights': 'uniform'}\n",
      "Best estimator -> KNeighborsRegressor(n_neighbors=1)\n",
      "mean_fit_time : 0.0008237123489379883\n",
      "std_fit_time : 0.00019012578782073167\n",
      "mean_score_time : 0.0013150215148925782\n",
      "std_score_time : 0.00022567938012491798\n",
      "param_algorithm : auto\n",
      "param_n_neighbors : 1\n",
      "param_weights : uniform\n",
      "params : {'algorithm': 'auto', 'n_neighbors': 1, 'weights': 'uniform'}\n",
      "split0_test_score : -2.322498677365312\n",
      "split1_test_score : -4.3351563511051205\n",
      "split2_test_score : -9.842872505086293\n",
      "split3_test_score : -0.7506101427717238\n",
      "split4_test_score : -0.5879107429264467\n",
      "split5_test_score : -0.7863387919512463\n",
      "split6_test_score : -2.459428229136353\n",
      "split7_test_score : 0.11255530232312172\n",
      "split8_test_score : -1.5436651750809252\n",
      "split9_test_score : -0.5532712361301808\n",
      "mean_test_score : -2.3069196549230475\n",
      "std_test_score : 2.7951527216096723\n",
      "rank_test_score : 1\n",
      "-----------------------------------------------------\n",
      "RadiusNeighborsRegressor()\n",
      "Best score -> nan\n",
      "Best params -> {'algorithm': 'auto', 'radius': 0.0, 'weights': 'uniform'}\n",
      "Best estimator -> RadiusNeighborsRegressor(radius=0.0)\n",
      "mean_fit_time : 0.0012003660202026367\n",
      "std_fit_time : 0.00011137093280971245\n",
      "mean_score_time : 0.002141308784484863\n",
      "std_score_time : 0.00014479241181701601\n",
      "param_algorithm : auto\n",
      "param_radius : 0.0\n",
      "param_weights : uniform\n",
      "params : {'algorithm': 'auto', 'radius': 0.0, 'weights': 'uniform'}\n",
      "split0_test_score : nan\n",
      "split1_test_score : nan\n",
      "split2_test_score : nan\n",
      "split3_test_score : nan\n",
      "split4_test_score : nan\n",
      "split5_test_score : nan\n",
      "split6_test_score : nan\n",
      "split7_test_score : nan\n",
      "split8_test_score : nan\n",
      "split9_test_score : nan\n",
      "mean_test_score : nan\n",
      "std_test_score : nan\n",
      "rank_test_score : 1\n",
      "-----------------------------------------------------\n"
     ]
    }
   ],
   "source": [
    "# Подбирать параметры будем через GridSearchCV - она делает все что нужно\n",
    "from sklearn.model_selection import GridSearchCV\n",
    "\n",
    "for model, grid_param in zip(list_model, list_param):\n",
    "    grid = GridSearchCV(model, grid_param, cv=10, scoring='r2')\n",
    "    grid.fit(X, y)\n",
    "    print(model)\n",
    "    print(\"Best score ->\", grid.best_score_)\n",
    "    print(\"Best params ->\", grid.best_params_)\n",
    "    print(\"Best estimator ->\", grid.best_estimator_)\n",
    "    for k in grid.cv_results_:\n",
    "        print(k, \":\", grid.cv_results_[k][0])\n",
    "    \n",
    "    print(\"-----------------------------------------------------\")"
   ]
  },
  {
   "cell_type": "markdown",
   "metadata": {},
   "source": [
    "### Итоги:\n",
    "Лучше всего справилась ExtraTreeRegressor, при этом best params min_samples_leaf: 4, min_samples_split: 3. Попробуем построить с такими параметрами модель ExtraTreeRegressor"
   ]
  },
  {
   "cell_type": "code",
   "execution_count": 104,
   "metadata": {},
   "outputs": [],
   "source": [
    "from sklearn.model_selection import train_test_split\n",
    "\n",
    "X_train, X_test, y_train, y_test = train_test_split(X, y, test_size=0.2, random_state=2)"
   ]
  },
  {
   "cell_type": "code",
   "execution_count": 105,
   "metadata": {},
   "outputs": [],
   "source": [
    "et_model_2 = ExtraTreeRegressor(min_samples_leaf=4, min_samples_split=3)"
   ]
  },
  {
   "cell_type": "code",
   "execution_count": 106,
   "metadata": {},
   "outputs": [
    {
     "data": {
      "text/plain": [
       "ExtraTreeRegressor(min_samples_leaf=4, min_samples_split=3)"
      ]
     },
     "execution_count": 106,
     "metadata": {},
     "output_type": "execute_result"
    }
   ],
   "source": [
    "et_model_2.fit(X_train, y_train)"
   ]
  },
  {
   "cell_type": "code",
   "execution_count": 107,
   "metadata": {},
   "outputs": [
    {
     "data": {
      "text/plain": [
       "0.7050101226051871"
      ]
     },
     "execution_count": 107,
     "metadata": {},
     "output_type": "execute_result"
    }
   ],
   "source": [
    "et_model_2.score(X_test, y_test)"
   ]
  },
  {
   "cell_type": "markdown",
   "metadata": {},
   "source": [
    "Качество модели 0.705"
   ]
  },
  {
   "cell_type": "markdown",
   "metadata": {},
   "source": [
    "Построим для интереса линейную регрессию с базовыми параметрами"
   ]
  },
  {
   "cell_type": "code",
   "execution_count": 108,
   "metadata": {},
   "outputs": [
    {
     "data": {
      "text/plain": [
       "LinearRegression()"
      ]
     },
     "execution_count": 108,
     "metadata": {},
     "output_type": "execute_result"
    }
   ],
   "source": [
    "lr_model_2 = LinearRegression()\n",
    "lr_model_2.fit(X_train, y_train)"
   ]
  },
  {
   "cell_type": "code",
   "execution_count": 109,
   "metadata": {},
   "outputs": [
    {
     "data": {
      "text/plain": [
       "0.7789207451814436"
      ]
     },
     "execution_count": 109,
     "metadata": {},
     "output_type": "execute_result"
    }
   ],
   "source": [
    "lr_model_2.score(X_test, y_test)"
   ]
  },
  {
   "cell_type": "markdown",
   "metadata": {},
   "source": [
    "Качество даже выше"
   ]
  }
 ],
 "metadata": {
  "hide_input": false,
  "kernelspec": {
   "display_name": "Python 3",
   "language": "python",
   "name": "python3"
  },
  "language_info": {
   "codemirror_mode": {
    "name": "ipython",
    "version": 3
   },
   "file_extension": ".py",
   "mimetype": "text/x-python",
   "name": "python",
   "nbconvert_exporter": "python",
   "pygments_lexer": "ipython3",
   "version": "3.8.5"
  }
 },
 "nbformat": 4,
 "nbformat_minor": 4
}
