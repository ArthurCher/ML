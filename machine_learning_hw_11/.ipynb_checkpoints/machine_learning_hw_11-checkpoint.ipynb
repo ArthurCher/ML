{
 "cells": [
  {
   "cell_type": "code",
   "execution_count": 37,
   "metadata": {},
   "outputs": [],
   "source": [
    "from sklearn.datasets import load_boston\n",
    "import numpy as np\n",
    "import warnings\n",
    "\n",
    "warnings.filterwarnings('ignore')"
   ]
  },
  {
   "cell_type": "code",
   "execution_count": 38,
   "metadata": {},
   "outputs": [],
   "source": [
    "with warnings.catch_warnings():\n",
    "    warnings.filterwarnings(\"ignore\")\n",
    "    X, y = load_boston(return_X_y=True)"
   ]
  },
  {
   "cell_type": "code",
   "execution_count": 39,
   "metadata": {},
   "outputs": [],
   "source": [
    "from sklearn.linear_model import LinearRegression\n",
    "from sklearn.tree import DecisionTreeRegressor\n",
    "from sklearn.tree import ExtraTreeRegressor\n",
    "from sklearn.neighbors import KNeighborsRegressor\n",
    "from sklearn.neighbors import RadiusNeighborsRegressor"
   ]
  },
  {
   "cell_type": "code",
   "execution_count": 40,
   "metadata": {},
   "outputs": [],
   "source": [
    "lr_model = LinearRegression()\n",
    "dt_model = DecisionTreeRegressor()\n",
    "et_model = ExtraTreeRegressor()\n",
    "kn_model = KNeighborsRegressor()\n",
    "rn_model = RadiusNeighborsRegressor()"
   ]
  },
  {
   "cell_type": "code",
   "execution_count": 48,
   "metadata": {},
   "outputs": [],
   "source": [
    "lr_params = {'fit_intercept':[True, False], 'normalize':[True, False]}\n",
    "dt_params = {'min_samples_split':[x for x in range(1,10)], 'min_samples_leaf':[x for x in range(1,10)]}\n",
    "et_params = {'min_samples_split':[x for x in range(1,10)], 'min_samples_leaf':[x for x in range(1,10)]}\n",
    "kn_params = {'n_neighbors': [x for x in range(1,10)], 'weights': ['uniform', 'distance'], 'algorithm': ['auto', 'ball_tree', 'kd_tree', 'brute']}\n",
    "rn_params = {'radius': [x for x in np.arange(0.0, 5.1, 0.2)], 'weights': ['uniform', 'distance'], 'algorithm': ['auto', 'ball_tree', 'kd_tree', 'brute']}\n"
   ]
  },
  {
   "cell_type": "code",
   "execution_count": 49,
   "metadata": {},
   "outputs": [],
   "source": [
    "list_model = [lr_model, dt_model, et_model, kn_model, rn_model]\n",
    "list_param = [lr_params, dt_params, et_params, kn_params, rn_params]"
   ]
  },
  {
   "cell_type": "code",
   "execution_count": 50,
   "metadata": {},
   "outputs": [
    {
     "name": "stdout",
     "output_type": "stream",
     "text": [
      "LinearRegression()\n",
      "Best score -> 0.2760345915425497\n",
      "Best params -> {'fit_intercept': False, 'normalize': True}\n",
      "Best estimator -> LinearRegression(fit_intercept=False, normalize=True)\n",
      "mean_fit_time : 0.0014007806777954102\n",
      "std_fit_time : 0.00019918002515117533\n",
      "mean_score_time : 0.000491189956665039\n",
      "std_score_time : 0.00011348923713471937\n",
      "param_fit_intercept : True\n",
      "param_normalize : True\n",
      "params : {'fit_intercept': True, 'normalize': True}\n",
      "split0_test_score : 0.733760819350227\n",
      "split1_test_score : 0.4730725033143366\n",
      "split2_test_score : -1.006314543726404\n",
      "split3_test_score : 0.6411398421934933\n",
      "split4_test_score : 0.5476604617627834\n",
      "split5_test_score : 0.7364029190694071\n",
      "split6_test_score : 0.3782838635247935\n",
      "split7_test_score : -0.12922703208877095\n",
      "split8_test_score : -0.768432431438508\n",
      "split9_test_score : 0.41894349864428415\n",
      "mean_test_score : 0.20252899006056416\n",
      "std_test_score : 0.5952960169512276\n",
      "rank_test_score : 3\n",
      "-----------------------------------------------------\n",
      "DecisionTreeRegressor()\n",
      "Best score -> 0.33072603114707894\n",
      "Best params -> {'min_samples_leaf': 9, 'min_samples_split': 3}\n",
      "Best estimator -> DecisionTreeRegressor(min_samples_leaf=9, min_samples_split=3)\n",
      "mean_fit_time : 0.00047059059143066405\n",
      "std_fit_time : 9.336903818272573e-05\n",
      "mean_score_time : 0.0\n",
      "std_score_time : 0.0\n",
      "param_min_samples_leaf : 1\n",
      "param_min_samples_split : 1\n",
      "params : {'min_samples_leaf': 1, 'min_samples_split': 1}\n",
      "split0_test_score : nan\n",
      "split1_test_score : nan\n",
      "split2_test_score : nan\n",
      "split3_test_score : nan\n",
      "split4_test_score : nan\n",
      "split5_test_score : nan\n",
      "split6_test_score : nan\n",
      "split7_test_score : nan\n",
      "split8_test_score : nan\n",
      "split9_test_score : nan\n",
      "mean_test_score : nan\n",
      "std_test_score : nan\n",
      "rank_test_score : 81\n",
      "-----------------------------------------------------\n",
      "ExtraTreeRegressor()\n",
      "Best score -> 0.3190670797761365\n",
      "Best params -> {'min_samples_leaf': 9, 'min_samples_split': 3}\n",
      "Best estimator -> ExtraTreeRegressor(min_samples_leaf=9, min_samples_split=3)\n",
      "mean_fit_time : 0.0003842830657958984\n",
      "std_fit_time : 2.6886343818305623e-05\n",
      "mean_score_time : 0.0\n",
      "std_score_time : 0.0\n",
      "param_min_samples_leaf : 1\n",
      "param_min_samples_split : 1\n",
      "params : {'min_samples_leaf': 1, 'min_samples_split': 1}\n",
      "split0_test_score : nan\n",
      "split1_test_score : nan\n",
      "split2_test_score : nan\n",
      "split3_test_score : nan\n",
      "split4_test_score : nan\n",
      "split5_test_score : nan\n",
      "split6_test_score : nan\n",
      "split7_test_score : nan\n",
      "split8_test_score : nan\n",
      "split9_test_score : nan\n",
      "mean_test_score : nan\n",
      "std_test_score : nan\n",
      "rank_test_score : 81\n",
      "-----------------------------------------------------\n",
      "KNeighborsRegressor()\n",
      "Best score -> -2.3069196549230475\n",
      "Best params -> {'algorithm': 'auto', 'n_neighbors': 1, 'weights': 'uniform'}\n",
      "Best estimator -> KNeighborsRegressor(n_neighbors=1)\n",
      "mean_fit_time : 0.0008657455444335937\n",
      "std_fit_time : 0.00013492628750769425\n",
      "mean_score_time : 0.0012280464172363282\n",
      "std_score_time : 0.000149921644377156\n",
      "param_algorithm : auto\n",
      "param_n_neighbors : 1\n",
      "param_weights : uniform\n",
      "params : {'algorithm': 'auto', 'n_neighbors': 1, 'weights': 'uniform'}\n",
      "split0_test_score : -2.322498677365312\n",
      "split1_test_score : -4.3351563511051205\n",
      "split2_test_score : -9.842872505086293\n",
      "split3_test_score : -0.7506101427717238\n",
      "split4_test_score : -0.5879107429264467\n",
      "split5_test_score : -0.7863387919512463\n",
      "split6_test_score : -2.459428229136353\n",
      "split7_test_score : 0.11255530232312172\n",
      "split8_test_score : -1.5436651750809252\n",
      "split9_test_score : -0.5532712361301808\n",
      "mean_test_score : -2.3069196549230475\n",
      "std_test_score : 2.7951527216096723\n",
      "rank_test_score : 1\n",
      "-----------------------------------------------------\n",
      "RadiusNeighborsRegressor()\n",
      "Best score -> nan\n",
      "Best params -> {'algorithm': 'auto', 'radius': 0.0, 'weights': 'uniform'}\n",
      "Best estimator -> RadiusNeighborsRegressor(radius=0.0)\n",
      "mean_fit_time : 0.0012749910354614257\n",
      "std_fit_time : 0.0001528914996199411\n",
      "mean_score_time : 0.0023882389068603516\n",
      "std_score_time : 0.0002648956809131346\n",
      "param_algorithm : auto\n",
      "param_radius : 0.0\n",
      "param_weights : uniform\n",
      "params : {'algorithm': 'auto', 'radius': 0.0, 'weights': 'uniform'}\n",
      "split0_test_score : nan\n",
      "split1_test_score : nan\n",
      "split2_test_score : nan\n",
      "split3_test_score : nan\n",
      "split4_test_score : nan\n",
      "split5_test_score : nan\n",
      "split6_test_score : nan\n",
      "split7_test_score : nan\n",
      "split8_test_score : nan\n",
      "split9_test_score : nan\n",
      "mean_test_score : nan\n",
      "std_test_score : nan\n",
      "rank_test_score : 1\n",
      "-----------------------------------------------------\n"
     ]
    }
   ],
   "source": [
    "from sklearn.model_selection import GridSearchCV\n",
    "\n",
    "for model, grid_param in zip(list_model, list_param):\n",
    "    grid = GridSearchCV(model, grid_param, cv=10, scoring='r2')\n",
    "    grid.fit(X, y)\n",
    "    print(model)\n",
    "    print(\"Best score ->\", grid.best_score_)\n",
    "    print(\"Best params ->\", grid.best_params_)\n",
    "    print(\"Best estimator ->\", grid.best_estimator_)\n",
    "    for k in grid.cv_results_:\n",
    "        print(k, \":\", grid.cv_results_[k][0])\n",
    "    \n",
    "    print(\"-----------------------------------------------------\")"
   ]
  },
  {
   "cell_type": "code",
   "execution_count": null,
   "metadata": {},
   "outputs": [],
   "source": []
  },
  {
   "cell_type": "code",
   "execution_count": 28,
   "metadata": {},
   "outputs": [
    {
     "name": "stdout",
     "output_type": "stream",
     "text": [
      "mean_fit_time : 0.0014882087707519531\n",
      "std_fit_time : 0.0003218541673293223\n",
      "mean_score_time : 0.0005373477935791016\n",
      "std_score_time : 0.00015129716168133116\n",
      "param_fit_intercept : True\n",
      "param_normalize : True\n",
      "params : {'fit_intercept': True, 'normalize': True}\n",
      "split0_test_score : 0.733760819350227\n",
      "split1_test_score : 0.4730725033143366\n",
      "split2_test_score : -1.006314543726404\n",
      "split3_test_score : 0.6411398421934933\n",
      "split4_test_score : 0.5476604617627834\n",
      "split5_test_score : 0.7364029190694071\n",
      "split6_test_score : 0.3782838635247935\n",
      "split7_test_score : -0.12922703208877095\n",
      "split8_test_score : -0.768432431438508\n",
      "split9_test_score : 0.41894349864428415\n",
      "mean_test_score : 0.20252899006056416\n",
      "std_test_score : 0.5952960169512276\n",
      "rank_test_score : 3\n"
     ]
    }
   ],
   "source": [
    "for k in grid.cv_results_:\n",
    "    print(k, \":\", grid.cv_results_[k][0])"
   ]
  },
  {
   "cell_type": "code",
   "execution_count": 30,
   "metadata": {},
   "outputs": [
    {
     "name": "stdout",
     "output_type": "stream",
     "text": [
      "0.2760345915425497\n",
      "{'fit_intercept': False, 'normalize': True}\n",
      "LinearRegression(fit_intercept=False, normalize=True)\n"
     ]
    }
   ],
   "source": [
    "print(grid.best_score_)\n",
    "print(grid.best_params_)\n",
    "print(grid.best_estimator_)"
   ]
  },
  {
   "cell_type": "code",
   "execution_count": 35,
   "metadata": {},
   "outputs": [
    {
     "data": {
      "text/plain": [
       "[0.4,\n",
       " 0.6000000000000001,\n",
       " 0.8000000000000002,\n",
       " 1.0000000000000002,\n",
       " 1.2000000000000002,\n",
       " 1.4000000000000004,\n",
       " 1.6000000000000005,\n",
       " 1.8000000000000003,\n",
       " 2.0000000000000004]"
      ]
     },
     "execution_count": 35,
     "metadata": {},
     "output_type": "execute_result"
    }
   ],
   "source": [
    "[x for x in np.arange(0.4, 2.1, 0.2)]"
   ]
  }
 ],
 "metadata": {
  "hide_input": false,
  "kernelspec": {
   "display_name": "Python 3",
   "language": "python",
   "name": "python3"
  },
  "language_info": {
   "codemirror_mode": {
    "name": "ipython",
    "version": 3
   },
   "file_extension": ".py",
   "mimetype": "text/x-python",
   "name": "python",
   "nbconvert_exporter": "python",
   "pygments_lexer": "ipython3",
   "version": "3.8.5"
  }
 },
 "nbformat": 4,
 "nbformat_minor": 4
}
