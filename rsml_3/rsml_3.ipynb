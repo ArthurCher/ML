{
 "cells": [
  {
   "cell_type": "markdown",
   "metadata": {},
   "source": [
    "# Задание к теме «Гибридные рекомендательные системы»\n",
    "\n",
    "Что делать?\n",
    "\n",
    "    Датасет ml-latest\n",
    "    Вспомнить подходы, которые мы разбирали\n",
    "    Выбрать понравившийся подход к гибридным системам\n",
    "    Написать свою"
   ]
  },
  {
   "cell_type": "code",
   "execution_count": 6,
   "metadata": {},
   "outputs": [
    {
     "name": "stderr",
     "output_type": "stream",
     "text": [
      "/Users/vandal/anaconda3/lib/python3.8/site-packages/lightfm/_lightfm_fast.py:9: UserWarning: LightFM was compiled without OpenMP support. Only a single thread will be used.\n",
      "  warnings.warn(\n"
     ]
    }
   ],
   "source": [
    "import numpy as np\n",
    "\n",
    "from lightfm.datasets import fetch_movielens\n",
    "\n",
    "movielens = fetch_movielens()\n"
   ]
  },
  {
   "cell_type": "code",
   "execution_count": 7,
   "metadata": {},
   "outputs": [],
   "source": [
    "train = movielens['train']\n",
    "test = movielens['test']\n"
   ]
  },
  {
   "cell_type": "code",
   "execution_count": 52,
   "metadata": {},
   "outputs": [],
   "source": [
    "from lightfm import LightFM\n",
    "from lightfm.evaluation import precision_at_k\n",
    "from lightfm.evaluation import auc_score\n"
   ]
  },
  {
   "cell_type": "code",
   "execution_count": 53,
   "metadata": {},
   "outputs": [
    {
     "name": "stdout",
     "output_type": "stream",
     "text": [
      "Precision: train 0.72, test 0.25.\n"
     ]
    }
   ],
   "source": [
    "# Поигрался немного с параметрами и немного улучшил качество\n",
    "\n",
    "model = LightFM(no_components=20, learning_rate=0.05, loss='warp', learning_schedule='adagrad', item_alpha=0.0001)\n",
    "\n",
    "model.fit_partial(train, epochs=100)\n",
    "\n",
    "train_precision = precision_at_k(model, train, k=10).mean()\n",
    "test_precision = precision_at_k(model, test, k=10, train_interactions=train).mean()\n",
    "\n",
    "print('Precision: train %.2f, test %.2f.' % (train_precision, test_precision))"
   ]
  },
  {
   "cell_type": "code",
   "execution_count": 54,
   "metadata": {},
   "outputs": [],
   "source": [
    "def sample_recommendation(model, data, user_ids):\n",
    "    n_users, n_items = data['train'].shape\n",
    "    for user_id in user_ids:\n",
    "        known_positives = data['item_labels'][data['train'].tocsr()                                    \n",
    "                          [user_id].indices]\n",
    "        \n",
    "        scores = model.predict(user_id, np.arange(n_items))\n",
    "\n",
    "        top_items = data['item_labels'][np.argsort(-scores)]\n",
    "\n",
    "        print(\"User %s\" % user_id)\n",
    "        print(\"     Known positives:\")\n",
    "        \n",
    "        for x in known_positives[:5]:\n",
    "            print(\"        %s\" % x)\n",
    "        \n",
    "        print(\"     Recommended:\")\n",
    "        \n",
    "        for x in top_items[:5]:\n",
    "            print(\"        %s\" % x)\n"
   ]
  },
  {
   "cell_type": "code",
   "execution_count": 55,
   "metadata": {},
   "outputs": [
    {
     "name": "stdout",
     "output_type": "stream",
     "text": [
      "User 1\n",
      "     Known positives:\n",
      "        Toy Story (1995)\n",
      "        Richard III (1995)\n",
      "        Postino, Il (1994)\n",
      "        Antonia's Line (1995)\n",
      "        Birdcage, The (1996)\n",
      "     Recommended:\n",
      "        English Patient, The (1996)\n",
      "        Sense and Sensibility (1995)\n",
      "        Secrets & Lies (1996)\n",
      "        Jerry Maguire (1996)\n",
      "        Emma (1996)\n",
      "User 10\n",
      "     Known positives:\n",
      "        Babe (1995)\n",
      "        Dead Man Walking (1995)\n",
      "        Seven (Se7en) (1995)\n",
      "        Usual Suspects, The (1995)\n",
      "        Mr. Holland's Opus (1995)\n",
      "     Recommended:\n",
      "        Grease (1978)\n",
      "        Four Weddings and a Funeral (1994)\n",
      "        Princess Bride, The (1987)\n",
      "        Monty Python and the Holy Grail (1974)\n",
      "        Fargo (1996)\n",
      "User 100\n",
      "     Known positives:\n",
      "        Toy Story (1995)\n",
      "        Twelve Monkeys (1995)\n",
      "        Rumble in the Bronx (1995)\n",
      "        Star Wars (1977)\n",
      "        Mystery Science Theater 3000: The Movie (1996)\n",
      "     Recommended:\n",
      "        Twister (1996)\n",
      "        Independence Day (ID4) (1996)\n",
      "        Mission: Impossible (1996)\n",
      "        Nutty Professor, The (1996)\n",
      "        Multiplicity (1996)\n"
     ]
    }
   ],
   "source": [
    "sample_recommendation(model, movielens, [1, 10, 100])"
   ]
  }
 ],
 "metadata": {
  "hide_input": false,
  "kernelspec": {
   "display_name": "Python 3",
   "language": "python",
   "name": "python3"
  },
  "language_info": {
   "codemirror_mode": {
    "name": "ipython",
    "version": 3
   },
   "file_extension": ".py",
   "mimetype": "text/x-python",
   "name": "python",
   "nbconvert_exporter": "python",
   "pygments_lexer": "ipython3",
   "version": "3.8.5"
  }
 },
 "nbformat": 4,
 "nbformat_minor": 4
}
