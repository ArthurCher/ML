{
 "cells": [
  {
   "cell_type": "markdown",
   "metadata": {},
   "source": [
    "# Домашнее задание к лекции \"Поиск выбросов и генерация новых признаков\" обновленное"
   ]
  },
  {
   "cell_type": "code",
   "execution_count": 111,
   "metadata": {},
   "outputs": [],
   "source": [
    "# Подключим библиотеки\n",
    "import pandas as pd\n",
    "import numpy as np\n",
    "import seaborn as sns\n",
    "from matplotlib import pyplot as plt\n",
    "import warnings\n",
    "\n",
    "warnings.filterwarnings('ignore')"
   ]
  },
  {
   "cell_type": "markdown",
   "metadata": {},
   "source": [
    "Загрузим данные"
   ]
  },
  {
   "cell_type": "code",
   "execution_count": 2,
   "metadata": {},
   "outputs": [
    {
     "data": {
      "text/html": [
       "<div>\n",
       "<style scoped>\n",
       "    .dataframe tbody tr th:only-of-type {\n",
       "        vertical-align: middle;\n",
       "    }\n",
       "\n",
       "    .dataframe tbody tr th {\n",
       "        vertical-align: top;\n",
       "    }\n",
       "\n",
       "    .dataframe thead th {\n",
       "        text-align: right;\n",
       "    }\n",
       "</style>\n",
       "<table border=\"1\" class=\"dataframe\">\n",
       "  <thead>\n",
       "    <tr style=\"text-align: right;\">\n",
       "      <th></th>\n",
       "      <th>full_sq</th>\n",
       "      <th>life_sq</th>\n",
       "      <th>floor</th>\n",
       "      <th>max_floor</th>\n",
       "      <th>material</th>\n",
       "      <th>build_year</th>\n",
       "      <th>num_room</th>\n",
       "      <th>kitch_sq</th>\n",
       "      <th>state</th>\n",
       "      <th>area_m</th>\n",
       "      <th>...</th>\n",
       "      <th>ts_km</th>\n",
       "      <th>big_market_km</th>\n",
       "      <th>market_shop_km</th>\n",
       "      <th>fitness_km</th>\n",
       "      <th>university_km</th>\n",
       "      <th>workplaces_km</th>\n",
       "      <th>shopping_centers_km</th>\n",
       "      <th>office_km</th>\n",
       "      <th>preschool_km</th>\n",
       "      <th>price_doc</th>\n",
       "    </tr>\n",
       "  </thead>\n",
       "  <tbody>\n",
       "    <tr>\n",
       "      <th>0</th>\n",
       "      <td>43</td>\n",
       "      <td>27.0</td>\n",
       "      <td>4.0</td>\n",
       "      <td>NaN</td>\n",
       "      <td>NaN</td>\n",
       "      <td>NaN</td>\n",
       "      <td>NaN</td>\n",
       "      <td>NaN</td>\n",
       "      <td>NaN</td>\n",
       "      <td>6.407578e+06</td>\n",
       "      <td>...</td>\n",
       "      <td>4.308127</td>\n",
       "      <td>10.814172</td>\n",
       "      <td>1.676258</td>\n",
       "      <td>0.485841</td>\n",
       "      <td>6.715026</td>\n",
       "      <td>0.884350</td>\n",
       "      <td>0.648488</td>\n",
       "      <td>0.637189</td>\n",
       "      <td>0.177975</td>\n",
       "      <td>5850000</td>\n",
       "    </tr>\n",
       "    <tr>\n",
       "      <th>1</th>\n",
       "      <td>34</td>\n",
       "      <td>19.0</td>\n",
       "      <td>3.0</td>\n",
       "      <td>NaN</td>\n",
       "      <td>NaN</td>\n",
       "      <td>NaN</td>\n",
       "      <td>NaN</td>\n",
       "      <td>NaN</td>\n",
       "      <td>NaN</td>\n",
       "      <td>9.589337e+06</td>\n",
       "      <td>...</td>\n",
       "      <td>0.725560</td>\n",
       "      <td>6.910568</td>\n",
       "      <td>3.424716</td>\n",
       "      <td>0.668364</td>\n",
       "      <td>1.852560</td>\n",
       "      <td>0.686252</td>\n",
       "      <td>0.519311</td>\n",
       "      <td>0.688796</td>\n",
       "      <td>0.273345</td>\n",
       "      <td>6000000</td>\n",
       "    </tr>\n",
       "    <tr>\n",
       "      <th>2</th>\n",
       "      <td>43</td>\n",
       "      <td>29.0</td>\n",
       "      <td>2.0</td>\n",
       "      <td>NaN</td>\n",
       "      <td>NaN</td>\n",
       "      <td>NaN</td>\n",
       "      <td>NaN</td>\n",
       "      <td>NaN</td>\n",
       "      <td>NaN</td>\n",
       "      <td>4.808270e+06</td>\n",
       "      <td>...</td>\n",
       "      <td>3.562188</td>\n",
       "      <td>5.752368</td>\n",
       "      <td>1.375443</td>\n",
       "      <td>0.733101</td>\n",
       "      <td>0.841254</td>\n",
       "      <td>1.510089</td>\n",
       "      <td>1.486533</td>\n",
       "      <td>1.543049</td>\n",
       "      <td>0.158072</td>\n",
       "      <td>5700000</td>\n",
       "    </tr>\n",
       "    <tr>\n",
       "      <th>3</th>\n",
       "      <td>89</td>\n",
       "      <td>50.0</td>\n",
       "      <td>9.0</td>\n",
       "      <td>NaN</td>\n",
       "      <td>NaN</td>\n",
       "      <td>NaN</td>\n",
       "      <td>NaN</td>\n",
       "      <td>NaN</td>\n",
       "      <td>NaN</td>\n",
       "      <td>1.258354e+07</td>\n",
       "      <td>...</td>\n",
       "      <td>0.583025</td>\n",
       "      <td>27.892717</td>\n",
       "      <td>0.811275</td>\n",
       "      <td>0.623484</td>\n",
       "      <td>10.903161</td>\n",
       "      <td>0.622272</td>\n",
       "      <td>0.599914</td>\n",
       "      <td>0.934273</td>\n",
       "      <td>0.236455</td>\n",
       "      <td>13100000</td>\n",
       "    </tr>\n",
       "    <tr>\n",
       "      <th>4</th>\n",
       "      <td>77</td>\n",
       "      <td>77.0</td>\n",
       "      <td>4.0</td>\n",
       "      <td>NaN</td>\n",
       "      <td>NaN</td>\n",
       "      <td>NaN</td>\n",
       "      <td>NaN</td>\n",
       "      <td>NaN</td>\n",
       "      <td>NaN</td>\n",
       "      <td>8.398461e+06</td>\n",
       "      <td>...</td>\n",
       "      <td>2.609420</td>\n",
       "      <td>9.155057</td>\n",
       "      <td>1.969738</td>\n",
       "      <td>0.220288</td>\n",
       "      <td>0.991683</td>\n",
       "      <td>0.892668</td>\n",
       "      <td>0.429052</td>\n",
       "      <td>0.077901</td>\n",
       "      <td>0.376838</td>\n",
       "      <td>16331452</td>\n",
       "    </tr>\n",
       "  </tbody>\n",
       "</table>\n",
       "<p>5 rows × 44 columns</p>\n",
       "</div>"
      ],
      "text/plain": [
       "   full_sq  life_sq  floor  max_floor  material  build_year  num_room  \\\n",
       "0       43     27.0    4.0        NaN       NaN         NaN       NaN   \n",
       "1       34     19.0    3.0        NaN       NaN         NaN       NaN   \n",
       "2       43     29.0    2.0        NaN       NaN         NaN       NaN   \n",
       "3       89     50.0    9.0        NaN       NaN         NaN       NaN   \n",
       "4       77     77.0    4.0        NaN       NaN         NaN       NaN   \n",
       "\n",
       "   kitch_sq  state        area_m  ...     ts_km  big_market_km  \\\n",
       "0       NaN    NaN  6.407578e+06  ...  4.308127      10.814172   \n",
       "1       NaN    NaN  9.589337e+06  ...  0.725560       6.910568   \n",
       "2       NaN    NaN  4.808270e+06  ...  3.562188       5.752368   \n",
       "3       NaN    NaN  1.258354e+07  ...  0.583025      27.892717   \n",
       "4       NaN    NaN  8.398461e+06  ...  2.609420       9.155057   \n",
       "\n",
       "   market_shop_km  fitness_km  university_km  workplaces_km  \\\n",
       "0        1.676258    0.485841       6.715026       0.884350   \n",
       "1        3.424716    0.668364       1.852560       0.686252   \n",
       "2        1.375443    0.733101       0.841254       1.510089   \n",
       "3        0.811275    0.623484      10.903161       0.622272   \n",
       "4        1.969738    0.220288       0.991683       0.892668   \n",
       "\n",
       "   shopping_centers_km  office_km  preschool_km  price_doc  \n",
       "0             0.648488   0.637189      0.177975    5850000  \n",
       "1             0.519311   0.688796      0.273345    6000000  \n",
       "2             1.486533   1.543049      0.158072    5700000  \n",
       "3             0.599914   0.934273      0.236455   13100000  \n",
       "4             0.429052   0.077901      0.376838   16331452  \n",
       "\n",
       "[5 rows x 44 columns]"
      ]
     },
     "execution_count": 2,
     "metadata": {},
     "output_type": "execute_result"
    }
   ],
   "source": [
    "data = pd.read_csv('train.csv', usecols=['full_sq', 'life_sq', 'floor', 'max_floor', 'material', 'build_year', 'num_room', 'kitch_sq',\n",
    "'state', 'area_m', 'raion_popul', 'green_zone_part', 'indust_part', 'preschool_education_centers_raion',\n",
    "'school_education_centers_raion', 'hospital_beds_raion', 'healthcare_centers_raion', 'sport_objects_raion',\n",
    "'additional_education_raion', 'shopping_centers_raion', 'office_raion', 'ID_metro', 'metro_min_walk', 'kindergarten_km',\n",
    "'school_km', 'park_km', 'green_zone_km', 'industrial_km', 'water_km', 'mkad_km', 'ttk_km', 'sadovoe_km', 'bulvar_ring_km',\n",
    "'kremlin_km', 'ts_km', 'big_market_km','market_shop_km', 'fitness_km', 'university_km', 'workplaces_km', 'shopping_centers_km',\n",
    "'office_km', 'additional_education_raion', 'preschool_km', 'price_doc'])\n",
    "\n",
    "list_col = ['full_sq', 'life_sq', 'floor', 'max_floor', 'material', 'build_year', 'num_room', 'kitch_sq',\n",
    "'state', 'area_m', 'raion_popul', 'green_zone_part', 'indust_part', 'preschool_education_centers_raion',\n",
    "'school_education_centers_raion', 'hospital_beds_raion', 'healthcare_centers_raion', 'sport_objects_raion',\n",
    "'additional_education_raion', 'shopping_centers_raion', 'office_raion', 'ID_metro', 'metro_min_walk', 'kindergarten_km',\n",
    "'school_km', 'park_km', 'green_zone_km', 'industrial_km', 'water_km', 'mkad_km', 'ttk_km', 'sadovoe_km', 'bulvar_ring_km',\n",
    "'kremlin_km', 'ts_km', 'big_market_km','market_shop_km', 'fitness_km', 'university_km', 'workplaces_km', 'shopping_centers_km',\n",
    "'office_km', 'additional_education_raion', 'preschool_km']\n",
    "\n",
    "data.head()"
   ]
  },
  {
   "cell_type": "markdown",
   "metadata": {},
   "source": [
    "Обучим модель на первоначальных необработанных данных. И посмотрим на стартовый результат"
   ]
  },
  {
   "cell_type": "code",
   "execution_count": 3,
   "metadata": {},
   "outputs": [],
   "source": [
    "from sklearn.linear_model import LinearRegression\n",
    "from sklearn.model_selection import train_test_split"
   ]
  },
  {
   "cell_type": "code",
   "execution_count": 4,
   "metadata": {},
   "outputs": [
    {
     "name": "stdout",
     "output_type": "stream",
     "text": [
      "Качество модели -> 0.5086735203565966\n"
     ]
    }
   ],
   "source": [
    "score_list = [] # Список с оценками модели\n",
    "\n",
    "model = LinearRegression() # Модель для прогнозирования стоимости недвижимости\n",
    "\n",
    "clean_data = data.dropna() # Уберем пропущенные значения\n",
    "X = clean_data[['full_sq', 'life_sq', 'floor', 'max_floor', 'material', 'build_year', 'num_room', 'kitch_sq',\n",
    "'state', 'area_m', 'raion_popul', 'green_zone_part', 'indust_part', 'preschool_education_centers_raion',\n",
    "'school_education_centers_raion', 'hospital_beds_raion', 'healthcare_centers_raion', 'sport_objects_raion',\n",
    "'additional_education_raion', 'shopping_centers_raion', 'office_raion', 'ID_metro', 'metro_min_walk', 'kindergarten_km',\n",
    "'school_km', 'park_km', 'green_zone_km', 'industrial_km', 'water_km', 'mkad_km', 'ttk_km', 'sadovoe_km', 'bulvar_ring_km',\n",
    "'kremlin_km', 'ts_km', 'big_market_km','market_shop_km', 'fitness_km', 'university_km', 'workplaces_km', 'shopping_centers_km',\n",
    "'office_km', 'additional_education_raion', 'preschool_km']]\n",
    "\n",
    "y = clean_data['price_doc']\n",
    "\n",
    "X_train, X_test, y_train, y_test = train_test_split(X, y, test_size=0.25, random_state=42)\n",
    "\n",
    "model.fit(X_train, y_train)\n",
    "\n",
    "score = model.score(X_test, y_test)\n",
    "\n",
    "print(\"Качество модели ->\", score)\n",
    "\n",
    "score_list.append(score)\n"
   ]
  },
  {
   "cell_type": "markdown",
   "metadata": {},
   "source": [
    "Посмотрим на датафрейм - пропусков в нем много"
   ]
  },
  {
   "cell_type": "code",
   "execution_count": 5,
   "metadata": {},
   "outputs": [
    {
     "name": "stdout",
     "output_type": "stream",
     "text": [
      "<class 'pandas.core.frame.DataFrame'>\n",
      "RangeIndex: 30471 entries, 0 to 30470\n",
      "Data columns (total 44 columns):\n",
      " #   Column                             Non-Null Count  Dtype  \n",
      "---  ------                             --------------  -----  \n",
      " 0   full_sq                            30471 non-null  int64  \n",
      " 1   life_sq                            24088 non-null  float64\n",
      " 2   floor                              30304 non-null  float64\n",
      " 3   max_floor                          20899 non-null  float64\n",
      " 4   material                           20899 non-null  float64\n",
      " 5   build_year                         16866 non-null  float64\n",
      " 6   num_room                           20899 non-null  float64\n",
      " 7   kitch_sq                           20899 non-null  float64\n",
      " 8   state                              16912 non-null  float64\n",
      " 9   area_m                             30471 non-null  float64\n",
      " 10  raion_popul                        30471 non-null  int64  \n",
      " 11  green_zone_part                    30471 non-null  float64\n",
      " 12  indust_part                        30471 non-null  float64\n",
      " 13  preschool_education_centers_raion  30471 non-null  int64  \n",
      " 14  school_education_centers_raion     30471 non-null  int64  \n",
      " 15  hospital_beds_raion                16030 non-null  float64\n",
      " 16  healthcare_centers_raion           30471 non-null  int64  \n",
      " 17  sport_objects_raion                30471 non-null  int64  \n",
      " 18  additional_education_raion         30471 non-null  int64  \n",
      " 19  shopping_centers_raion             30471 non-null  int64  \n",
      " 20  office_raion                       30471 non-null  int64  \n",
      " 21  ID_metro                           30471 non-null  int64  \n",
      " 22  metro_min_walk                     30446 non-null  float64\n",
      " 23  kindergarten_km                    30471 non-null  float64\n",
      " 24  school_km                          30471 non-null  float64\n",
      " 25  park_km                            30471 non-null  float64\n",
      " 26  green_zone_km                      30471 non-null  float64\n",
      " 27  industrial_km                      30471 non-null  float64\n",
      " 28  water_km                           30471 non-null  float64\n",
      " 29  mkad_km                            30471 non-null  float64\n",
      " 30  ttk_km                             30471 non-null  float64\n",
      " 31  sadovoe_km                         30471 non-null  float64\n",
      " 32  bulvar_ring_km                     30471 non-null  float64\n",
      " 33  kremlin_km                         30471 non-null  float64\n",
      " 34  ts_km                              30471 non-null  float64\n",
      " 35  big_market_km                      30471 non-null  float64\n",
      " 36  market_shop_km                     30471 non-null  float64\n",
      " 37  fitness_km                         30471 non-null  float64\n",
      " 38  university_km                      30471 non-null  float64\n",
      " 39  workplaces_km                      30471 non-null  float64\n",
      " 40  shopping_centers_km                30471 non-null  float64\n",
      " 41  office_km                          30471 non-null  float64\n",
      " 42  preschool_km                       30471 non-null  float64\n",
      " 43  price_doc                          30471 non-null  int64  \n",
      "dtypes: float64(33), int64(11)\n",
      "memory usage: 10.2 MB\n"
     ]
    }
   ],
   "source": [
    "data.info()"
   ]
  },
  {
   "cell_type": "markdown",
   "metadata": {},
   "source": [
    "Уберем для начала пропуски"
   ]
  },
  {
   "cell_type": "code",
   "execution_count": 6,
   "metadata": {},
   "outputs": [],
   "source": [
    "# Пропуски будем заполнять методом случайного леса глубиной 5\n",
    "from sklearn.ensemble import RandomForestRegressor\n",
    "\n",
    "fill_nan_model = RandomForestRegressor(max_depth=5)\n",
    "\n",
    "result_data = data\n"
   ]
  },
  {
   "cell_type": "markdown",
   "metadata": {},
   "source": [
    "Убираем пропуски по очереди. Не буду только трогать metro_min_walk - там немного пропусков, потом их просто удалим"
   ]
  },
  {
   "cell_type": "code",
   "execution_count": 7,
   "metadata": {},
   "outputs": [
    {
     "data": {
      "text/plain": [
       "RandomForestRegressor(max_depth=5)"
      ]
     },
     "execution_count": 7,
     "metadata": {},
     "output_type": "execute_result"
    }
   ],
   "source": [
    "clean_data = result_data.dropna(subset=['life_sq'])\n",
    "X_na = clean_data[['full_sq', 'price_doc']]\n",
    "y_na = clean_data['life_sq']\n",
    "\n",
    "fill_nan_model.fit(X_na, y_na)"
   ]
  },
  {
   "cell_type": "code",
   "execution_count": 8,
   "metadata": {},
   "outputs": [],
   "source": [
    "result_data['life_sq'].loc[result_data['life_sq'].isna()] = fill_nan_model.predict(result_data.loc[result_data['life_sq'].isna()][['full_sq', 'price_doc']])\n"
   ]
  },
  {
   "cell_type": "code",
   "execution_count": 9,
   "metadata": {},
   "outputs": [
    {
     "name": "stdout",
     "output_type": "stream",
     "text": [
      "Качество модели -> 0.27896972898495676\n"
     ]
    }
   ],
   "source": [
    "clean_data = result_data.dropna()\n",
    "\n",
    "X = clean_data[list_col]\n",
    "\n",
    "y = clean_data['price_doc']\n",
    "\n",
    "X_train, X_test, y_train, y_test = train_test_split(X, y, test_size=0.25, random_state=42)\n",
    "\n",
    "model.fit(X_train, y_train)\n",
    "\n",
    "score = model.score(X_test, y_test)\n",
    "\n",
    "print(\"Качество модели ->\", score)\n",
    "\n",
    "score_list.append(score)"
   ]
  },
  {
   "cell_type": "code",
   "execution_count": 10,
   "metadata": {},
   "outputs": [
    {
     "data": {
      "text/plain": [
       "RandomForestRegressor(max_depth=5)"
      ]
     },
     "execution_count": 10,
     "metadata": {},
     "output_type": "execute_result"
    }
   ],
   "source": [
    "clean_data = result_data.dropna(subset=['build_year'])\n",
    "X_na = clean_data[['mkad_km', 'ttk_km', 'sadovoe_km', 'bulvar_ring_km', 'kremlin_km', ]]\n",
    "y_na = clean_data['build_year']\n",
    "fill_nan_model.fit(X_na, y_na)"
   ]
  },
  {
   "cell_type": "code",
   "execution_count": 11,
   "metadata": {},
   "outputs": [],
   "source": [
    "result_data['build_year'].loc[result_data['build_year'].isna()] = fill_nan_model.predict(result_data.loc[result_data['build_year'].isna()][['mkad_km', 'ttk_km', 'sadovoe_km', 'bulvar_ring_km', 'kremlin_km', ]])\n",
    "result_data['build_year'] = result_data['build_year'].apply(lambda x: round(x))\n"
   ]
  },
  {
   "cell_type": "code",
   "execution_count": 12,
   "metadata": {},
   "outputs": [
    {
     "name": "stdout",
     "output_type": "stream",
     "text": [
      "Качество модели -> 0.511038051715129\n"
     ]
    }
   ],
   "source": [
    "clean_data = result_data.dropna()\n",
    "X = clean_data[list_col]\n",
    "\n",
    "y = clean_data['price_doc']\n",
    "\n",
    "X_train, X_test, y_train, y_test = train_test_split(X, y, test_size=0.25, random_state=42)\n",
    "\n",
    "model.fit(X_train, y_train)\n",
    "\n",
    "score = model.score(X_test, y_test)\n",
    "\n",
    "print(\"Качество модели ->\", score)\n",
    "\n",
    "score_list.append(score)"
   ]
  },
  {
   "cell_type": "code",
   "execution_count": 13,
   "metadata": {},
   "outputs": [
    {
     "data": {
      "text/plain": [
       "RandomForestRegressor(max_depth=5)"
      ]
     },
     "execution_count": 13,
     "metadata": {},
     "output_type": "execute_result"
    }
   ],
   "source": [
    "clean_data = result_data.dropna(subset=['state'])\n",
    "X_na = clean_data[['build_year', 'price_doc']]\n",
    "y_na = clean_data['state']\n",
    "fill_nan_model.fit(X_na, y_na)"
   ]
  },
  {
   "cell_type": "code",
   "execution_count": 14,
   "metadata": {},
   "outputs": [],
   "source": [
    "result_data['state'].loc[result_data['state'].isna()] = fill_nan_model.predict(result_data.loc[result_data['state'].isna()][['build_year', 'price_doc']])\n"
   ]
  },
  {
   "cell_type": "code",
   "execution_count": 15,
   "metadata": {},
   "outputs": [
    {
     "name": "stdout",
     "output_type": "stream",
     "text": [
      "Качество модели -> 0.5630723276716201\n"
     ]
    }
   ],
   "source": [
    "clean_data = result_data.dropna()\n",
    "X = clean_data[list_col]\n",
    "\n",
    "y = clean_data['price_doc']\n",
    "\n",
    "X_train, X_test, y_train, y_test = train_test_split(X, y, test_size=0.25, random_state=42)\n",
    "\n",
    "model.fit(X_train, y_train)\n",
    "\n",
    "score = model.score(X_test, y_test)\n",
    "\n",
    "print(\"Качество модели ->\", score)\n",
    "\n",
    "score_list.append(score)"
   ]
  },
  {
   "cell_type": "code",
   "execution_count": 16,
   "metadata": {},
   "outputs": [
    {
     "data": {
      "text/plain": [
       "RandomForestRegressor(max_depth=5)"
      ]
     },
     "execution_count": 16,
     "metadata": {},
     "output_type": "execute_result"
    }
   ],
   "source": [
    "clean_data = result_data.dropna(subset=['hospital_beds_raion'])\n",
    "X_na = clean_data[['healthcare_centers_raion']]\n",
    "y_na = clean_data['hospital_beds_raion']\n",
    "fill_nan_model.fit(X_na, y_na)"
   ]
  },
  {
   "cell_type": "code",
   "execution_count": 17,
   "metadata": {},
   "outputs": [],
   "source": [
    "result_data['hospital_beds_raion'].loc[result_data['hospital_beds_raion'].isna()] = fill_nan_model.predict(result_data.loc[result_data['hospital_beds_raion'].isna()][['healthcare_centers_raion']])\n",
    "result_data['hospital_beds_raion'] = result_data['hospital_beds_raion'].apply(lambda x: round(x))\n"
   ]
  },
  {
   "cell_type": "code",
   "execution_count": 18,
   "metadata": {},
   "outputs": [
    {
     "name": "stdout",
     "output_type": "stream",
     "text": [
      "Качество модели -> 0.5325159812899458\n"
     ]
    }
   ],
   "source": [
    "clean_data = result_data.dropna()\n",
    "X = clean_data[list_col]\n",
    "\n",
    "y = clean_data['price_doc']\n",
    "\n",
    "X_train, X_test, y_train, y_test = train_test_split(X, y, test_size=0.25, random_state=42)\n",
    "\n",
    "model.fit(X_train, y_train)\n",
    "\n",
    "score = model.score(X_test, y_test)\n",
    "\n",
    "print(\"Качество модели ->\", score)\n",
    "\n",
    "score_list.append(score)"
   ]
  },
  {
   "cell_type": "code",
   "execution_count": 19,
   "metadata": {},
   "outputs": [
    {
     "data": {
      "text/plain": [
       "RandomForestRegressor(max_depth=5)"
      ]
     },
     "execution_count": 19,
     "metadata": {},
     "output_type": "execute_result"
    }
   ],
   "source": [
    "clean_data = result_data.dropna(subset=['max_floor'])\n",
    "X_na = clean_data[['build_year', 'price_doc']]\n",
    "y_na = clean_data['max_floor']\n",
    "fill_nan_model.fit(X_na, y_na)"
   ]
  },
  {
   "cell_type": "code",
   "execution_count": 20,
   "metadata": {},
   "outputs": [],
   "source": [
    "result_data['max_floor'].loc[result_data['max_floor'].isna()] = fill_nan_model.predict(result_data.loc[result_data['max_floor'].isna()][['build_year', 'price_doc']])\n",
    "result_data['max_floor'] = result_data['max_floor'].apply(lambda x: round(x))\n"
   ]
  },
  {
   "cell_type": "code",
   "execution_count": 21,
   "metadata": {},
   "outputs": [
    {
     "name": "stdout",
     "output_type": "stream",
     "text": [
      "Качество модели -> 0.5325159812899458\n"
     ]
    }
   ],
   "source": [
    "clean_data = result_data.dropna()\n",
    "X = clean_data[list_col]\n",
    "\n",
    "y = clean_data['price_doc']\n",
    "\n",
    "X_train, X_test, y_train, y_test = train_test_split(X, y, test_size=0.25, random_state=42)\n",
    "\n",
    "model.fit(X_train, y_train)\n",
    "\n",
    "score = model.score(X_test, y_test)\n",
    "\n",
    "print(\"Качество модели ->\", score)\n",
    "\n",
    "score_list.append(score)"
   ]
  },
  {
   "cell_type": "code",
   "execution_count": 22,
   "metadata": {},
   "outputs": [
    {
     "data": {
      "text/plain": [
       "RandomForestRegressor(max_depth=5)"
      ]
     },
     "execution_count": 22,
     "metadata": {},
     "output_type": "execute_result"
    }
   ],
   "source": [
    "clean_data = result_data.dropna(subset=['material'])\n",
    "X_na = clean_data[['build_year', 'price_doc']]\n",
    "y_na = clean_data['material']\n",
    "fill_nan_model.fit(X_na, y_na)"
   ]
  },
  {
   "cell_type": "code",
   "execution_count": 23,
   "metadata": {},
   "outputs": [],
   "source": [
    "result_data['material'].loc[result_data['material'].isna()] = fill_nan_model.predict(result_data.loc[result_data['material'].isna()][['build_year', 'price_doc']])\n"
   ]
  },
  {
   "cell_type": "code",
   "execution_count": 24,
   "metadata": {},
   "outputs": [
    {
     "name": "stdout",
     "output_type": "stream",
     "text": [
      "Качество модели -> 0.5325159812899458\n"
     ]
    }
   ],
   "source": [
    "clean_data = result_data.dropna()\n",
    "X = clean_data[list_col]\n",
    "\n",
    "y = clean_data['price_doc']\n",
    "\n",
    "X_train, X_test, y_train, y_test = train_test_split(X, y, test_size=0.25, random_state=42)\n",
    "\n",
    "model.fit(X_train, y_train)\n",
    "\n",
    "score = model.score(X_test, y_test)\n",
    "\n",
    "print(\"Качество модели ->\", score)\n",
    "\n",
    "score_list.append(score)"
   ]
  },
  {
   "cell_type": "code",
   "execution_count": 25,
   "metadata": {},
   "outputs": [
    {
     "data": {
      "text/plain": [
       "RandomForestRegressor(max_depth=5)"
      ]
     },
     "execution_count": 25,
     "metadata": {},
     "output_type": "execute_result"
    }
   ],
   "source": [
    "clean_data = result_data.dropna(subset=['num_room'])\n",
    "X_na = clean_data[['full_sq', 'price_doc']]\n",
    "y_na = clean_data['num_room']\n",
    "fill_nan_model.fit(X_na, y_na)"
   ]
  },
  {
   "cell_type": "code",
   "execution_count": 26,
   "metadata": {},
   "outputs": [],
   "source": [
    "result_data['num_room'].loc[result_data['num_room'].isna()] = fill_nan_model.predict(result_data.loc[result_data['num_room'].isna()][['full_sq', 'price_doc']])\n",
    "result_data['num_room'] = result_data['num_room'].apply(lambda x: round(x))\n"
   ]
  },
  {
   "cell_type": "code",
   "execution_count": 27,
   "metadata": {},
   "outputs": [
    {
     "name": "stdout",
     "output_type": "stream",
     "text": [
      "Качество модели -> 0.5325159812899458\n"
     ]
    }
   ],
   "source": [
    "clean_data = result_data.dropna()\n",
    "X = clean_data[list_col]\n",
    "\n",
    "y = clean_data['price_doc']\n",
    "\n",
    "X_train, X_test, y_train, y_test = train_test_split(X, y, test_size=0.25, random_state=42)\n",
    "\n",
    "model.fit(X_train, y_train)\n",
    "\n",
    "score = model.score(X_test, y_test)\n",
    "\n",
    "print(\"Качество модели ->\", score)\n",
    "\n",
    "score_list.append(score)"
   ]
  },
  {
   "cell_type": "code",
   "execution_count": 28,
   "metadata": {},
   "outputs": [
    {
     "data": {
      "text/plain": [
       "RandomForestRegressor(max_depth=5)"
      ]
     },
     "execution_count": 28,
     "metadata": {},
     "output_type": "execute_result"
    }
   ],
   "source": [
    "clean_data = result_data.dropna(subset=['kitch_sq'])\n",
    "X_na = clean_data[['full_sq', 'price_doc']]\n",
    "y_na = clean_data['kitch_sq']\n",
    "fill_nan_model.fit(X_na, y_na)"
   ]
  },
  {
   "cell_type": "code",
   "execution_count": 29,
   "metadata": {},
   "outputs": [],
   "source": [
    "result_data['kitch_sq'].loc[result_data['kitch_sq'].isna()] = fill_nan_model.predict(result_data.loc[result_data['kitch_sq'].isna()][['full_sq', 'price_doc']])\n"
   ]
  },
  {
   "cell_type": "code",
   "execution_count": 73,
   "metadata": {},
   "outputs": [
    {
     "name": "stdout",
     "output_type": "stream",
     "text": [
      "Качество модели -> -0.6867795568178061\n"
     ]
    }
   ],
   "source": [
    "clean_data = result_data.dropna()\n",
    "\n",
    "X = clean_data[list_col]\n",
    "\n",
    "y = clean_data['price_doc']\n",
    "\n",
    "X_train, X_test, y_train, y_test = train_test_split(X, y, test_size=0.25, random_state=42)\n",
    "\n",
    "model.fit(X_train, y_train)\n",
    "\n",
    "score = model.score(X_test, y_test)\n",
    "\n",
    "print(\"Качество модели ->\", score)\n",
    "\n",
    "score_list.append(score)"
   ]
  },
  {
   "cell_type": "markdown",
   "metadata": {},
   "source": [
    "Проверим наличие выбросов и уберем их"
   ]
  },
  {
   "cell_type": "code",
   "execution_count": 74,
   "metadata": {},
   "outputs": [
    {
     "data": {
      "image/png": "[encoded data removed]",
      "text/plain": [
       "<Figure size 864x648 with 1 Axes>"
      ]
     },
     "metadata": {
      "needs_background": "light"
     },
     "output_type": "display_data"
    }
   ],
   "source": [
    "red_square = dict(markerfacecolor='r', marker='s') # выделим предполагаемые выбросы\n",
    "fig, ax = plt.subplots(figsize=(12,9))\n",
    "ax.boxplot(clean_data['full_sq'], vert=False, flierprops=red_square)\n",
    "plt.show()"
   ]
  },
  {
   "cell_type": "code",
   "execution_count": 75,
   "metadata": {},
   "outputs": [],
   "source": [
    "x1 = clean_data['full_sq'].quantile(0.25) - 1.5*(clean_data['full_sq'].quantile(0.75) - clean_data['full_sq'].quantile(0.25))\n",
    "x2 = clean_data['full_sq'].quantile(0.75) + 1.5*(clean_data['full_sq'].quantile(0.75) - clean_data['full_sq'].quantile(0.25))\n",
    "clean_data = clean_data.loc[(clean_data['full_sq'] > x1) & (clean_data['full_sq'] < x2)]\n"
   ]
  },
  {
   "cell_type": "code",
   "execution_count": 76,
   "metadata": {},
   "outputs": [
    {
     "name": "stdout",
     "output_type": "stream",
     "text": [
      "Качество модели -> 0.5038860986701856\n"
     ]
    }
   ],
   "source": [
    "X = clean_data[list_col]\n",
    "\n",
    "y = clean_data['price_doc']\n",
    "\n",
    "X_train, X_test, y_train, y_test = train_test_split(X, y, test_size=0.25, random_state=42)\n",
    "\n",
    "model.fit(X_train, y_train)\n",
    "\n",
    "score = model.score(X_test, y_test)\n",
    "\n",
    "print(\"Качество модели ->\", score)\n",
    "\n",
    "score_list.append(score)"
   ]
  },
  {
   "cell_type": "code",
   "execution_count": 77,
   "metadata": {},
   "outputs": [
    {
     "data": {
      "image/png": "[encoded data removed]",
      "text/plain": [
       "<Figure size 864x648 with 1 Axes>"
      ]
     },
     "metadata": {
      "needs_background": "light"
     },
     "output_type": "display_data"
    }
   ],
   "source": [
    "red_square = dict(markerfacecolor='r', marker='s') # выделим предполагаемые выбросы\n",
    "fig, ax = plt.subplots(figsize=(12,9))\n",
    "ax.boxplot(clean_data['life_sq'], vert=False, flierprops=red_square)\n",
    "plt.show()"
   ]
  },
  {
   "cell_type": "code",
   "execution_count": 78,
   "metadata": {},
   "outputs": [],
   "source": [
    "x1 = clean_data['life_sq'].quantile(0.25) - 1.5*(clean_data['life_sq'].quantile(0.75) - clean_data['life_sq'].quantile(0.25))\n",
    "x2 = clean_data['life_sq'].quantile(0.75) + 1.5*(clean_data['life_sq'].quantile(0.75) - clean_data['life_sq'].quantile(0.25))\n",
    "clean_data = clean_data.loc[(clean_data['life_sq'] > x1) & (clean_data['life_sq'] < x2)]\n"
   ]
  },
  {
   "cell_type": "code",
   "execution_count": 79,
   "metadata": {},
   "outputs": [
    {
     "name": "stdout",
     "output_type": "stream",
     "text": [
      "Качество модели -> 0.2920264223383733\n"
     ]
    }
   ],
   "source": [
    "X = clean_data[list_col]\n",
    "\n",
    "y = clean_data['price_doc']\n",
    "\n",
    "X_train, X_test, y_train, y_test = train_test_split(X, y, test_size=0.25, random_state=42)\n",
    "\n",
    "model.fit(X_train, y_train)\n",
    "\n",
    "score = model.score(X_test, y_test)\n",
    "\n",
    "print(\"Качество модели ->\", score)\n",
    "\n",
    "score_list.append(score)"
   ]
  },
  {
   "cell_type": "code",
   "execution_count": 80,
   "metadata": {},
   "outputs": [
    {
     "data": {
      "image/png": "[encoded data removed]",
      "text/plain": [
       "<Figure size 864x648 with 1 Axes>"
      ]
     },
     "metadata": {
      "needs_background": "light"
     },
     "output_type": "display_data"
    }
   ],
   "source": [
    "red_square = dict(markerfacecolor='r', marker='s') # выделим предполагаемые выбросы\n",
    "fig, ax = plt.subplots(figsize=(12,9))\n",
    "ax.boxplot(clean_data['floor'], vert=False, flierprops=red_square)\n",
    "plt.show()"
   ]
  },
  {
   "cell_type": "code",
   "execution_count": 81,
   "metadata": {},
   "outputs": [],
   "source": [
    "clean_data = clean_data.loc[clean_data['floor'] < 25]\n"
   ]
  },
  {
   "cell_type": "code",
   "execution_count": 82,
   "metadata": {},
   "outputs": [
    {
     "name": "stdout",
     "output_type": "stream",
     "text": [
      "Качество модели -> 0.4885560405838233\n"
     ]
    }
   ],
   "source": [
    "X = clean_data[list_col]\n",
    "\n",
    "y = clean_data['price_doc']\n",
    "\n",
    "X_train, X_test, y_train, y_test = train_test_split(X, y, test_size=0.25, random_state=42)\n",
    "\n",
    "model.fit(X_train, y_train)\n",
    "\n",
    "score = model.score(X_test, y_test)\n",
    "\n",
    "print(\"Качество модели ->\", score)\n",
    "\n",
    "score_list.append(score)"
   ]
  },
  {
   "cell_type": "code",
   "execution_count": 83,
   "metadata": {},
   "outputs": [
    {
     "data": {
      "image/png": "[encoded data removed]",
      "text/plain": [
       "<Figure size 864x648 with 1 Axes>"
      ]
     },
     "metadata": {
      "needs_background": "light"
     },
     "output_type": "display_data"
    }
   ],
   "source": [
    "red_square = dict(markerfacecolor='r', marker='s') # выделим предполагаемые выбросы\n",
    "fig, ax = plt.subplots(figsize=(12,9))\n",
    "ax.boxplot(clean_data['max_floor'], vert=False, flierprops=red_square)\n",
    "plt.show()"
   ]
  },
  {
   "cell_type": "code",
   "execution_count": 84,
   "metadata": {},
   "outputs": [],
   "source": [
    "clean_data = clean_data.loc[data['max_floor'] < 40]"
   ]
  },
  {
   "cell_type": "code",
   "execution_count": 85,
   "metadata": {},
   "outputs": [
    {
     "name": "stdout",
     "output_type": "stream",
     "text": [
      "Качество модели -> 0.49848636593669826\n"
     ]
    }
   ],
   "source": [
    "X = clean_data[list_col]\n",
    "\n",
    "y = clean_data['price_doc']\n",
    "\n",
    "X_train, X_test, y_train, y_test = train_test_split(X, y, test_size=0.25, random_state=42)\n",
    "\n",
    "model.fit(X_train, y_train)\n",
    "\n",
    "score = model.score(X_test, y_test)\n",
    "\n",
    "print(\"Качество модели ->\", score)\n",
    "\n",
    "score_list.append(score)"
   ]
  },
  {
   "cell_type": "code",
   "execution_count": 86,
   "metadata": {},
   "outputs": [
    {
     "data": {
      "image/png": "[encoded data removed]",
      "text/plain": [
       "<Figure size 864x648 with 1 Axes>"
      ]
     },
     "metadata": {
      "needs_background": "light"
     },
     "output_type": "display_data"
    }
   ],
   "source": [
    "red_square = dict(markerfacecolor='r', marker='s') # выделим предполагаемые выбросы\n",
    "fig, ax = plt.subplots(figsize=(12,9))\n",
    "ax.boxplot(clean_data['material'], vert=False, flierprops=red_square)\n",
    "plt.show()"
   ]
  },
  {
   "cell_type": "code",
   "execution_count": 87,
   "metadata": {},
   "outputs": [],
   "source": [
    "clean_data = clean_data.loc[data['material'] < 3.5]"
   ]
  },
  {
   "cell_type": "code",
   "execution_count": 88,
   "metadata": {},
   "outputs": [],
   "source": [
    "# Год вряд ли будем старше 1900 и не может быть моложе 2022\n",
    "clean_data = clean_data.loc[(clean_data['build_year'] > 1900) & (clean_data['build_year'] < 2022)]"
   ]
  },
  {
   "cell_type": "code",
   "execution_count": 89,
   "metadata": {},
   "outputs": [
    {
     "name": "stdout",
     "output_type": "stream",
     "text": [
      "Качество модели -> 0.4562083025397171\n"
     ]
    }
   ],
   "source": [
    "X = clean_data[list_col]\n",
    "\n",
    "y = clean_data['price_doc']\n",
    "\n",
    "X_train, X_test, y_train, y_test = train_test_split(X, y, test_size=0.25, random_state=42)\n",
    "\n",
    "model.fit(X_train, y_train)\n",
    "\n",
    "score = model.score(X_test, y_test)\n",
    "\n",
    "print(\"Качество модели ->\", score)\n",
    "\n",
    "score_list.append(score)"
   ]
  },
  {
   "cell_type": "code",
   "execution_count": 90,
   "metadata": {},
   "outputs": [
    {
     "data": {
      "image/png": "[encoded data removed]",
      "text/plain": [
       "<Figure size 864x648 with 1 Axes>"
      ]
     },
     "metadata": {
      "needs_background": "light"
     },
     "output_type": "display_data"
    }
   ],
   "source": [
    "red_square = dict(markerfacecolor='r', marker='s') # выделим предполагаемые выбросы\n",
    "fig, ax = plt.subplots(figsize=(12,9))\n",
    "ax.boxplot(clean_data['kitch_sq'], vert=False, flierprops=red_square)\n",
    "plt.show()"
   ]
  },
  {
   "cell_type": "code",
   "execution_count": 91,
   "metadata": {},
   "outputs": [],
   "source": [
    "clean_data = clean_data.loc[clean_data['kitch_sq'] < 250]"
   ]
  },
  {
   "cell_type": "code",
   "execution_count": 92,
   "metadata": {},
   "outputs": [
    {
     "name": "stdout",
     "output_type": "stream",
     "text": [
      "Качество модели -> 0.45264140927705276\n"
     ]
    }
   ],
   "source": [
    "X = clean_data[list_col]\n",
    "\n",
    "y = clean_data['price_doc']\n",
    "\n",
    "X_train, X_test, y_train, y_test = train_test_split(X, y, test_size=0.25, random_state=42)\n",
    "\n",
    "model.fit(X_train, y_train)\n",
    "\n",
    "score = model.score(X_test, y_test)\n",
    "\n",
    "print(\"Качество модели ->\", score)\n",
    "\n",
    "score_list.append(score)"
   ]
  },
  {
   "cell_type": "markdown",
   "metadata": {},
   "source": [
    "Добавим 5 новых полей:\n",
    "* Отношение жилой площади к общей \\\n",
    "* Отношение этажа квартиры к количеству этаже в доме \\\n",
    "* Общее количество коек в медицинских центрах в районе квартиры \\\n",
    "* Отношение состояния квартиры к году строительства дома \\\n",
    "* Преобразуем в полиномиальную модель со степенью 2"
   ]
  },
  {
   "cell_type": "code",
   "execution_count": 93,
   "metadata": {},
   "outputs": [],
   "source": [
    "clean_data['path_life_sq'] = clean_data['life_sq']/clean_data['full_sq']\n",
    "clean_data.drop(columns=['life_sq', 'full_sq'], inplace=True)\n"
   ]
  },
  {
   "cell_type": "code",
   "execution_count": 94,
   "metadata": {},
   "outputs": [
    {
     "name": "stdout",
     "output_type": "stream",
     "text": [
      "Качество модели -> 0.3376959529047694\n"
     ]
    }
   ],
   "source": [
    "X = clean_data[['path_life_sq', 'floor', 'max_floor', 'material', 'build_year', 'num_room', 'kitch_sq',\n",
    "'state', 'area_m', 'raion_popul', 'green_zone_part', 'indust_part', 'preschool_education_centers_raion',\n",
    "'school_education_centers_raion', 'hospital_beds_raion', 'healthcare_centers_raion', 'sport_objects_raion',\n",
    "'additional_education_raion', 'shopping_centers_raion', 'office_raion', 'ID_metro', 'metro_min_walk', 'kindergarten_km',\n",
    "'school_km', 'park_km', 'green_zone_km', 'industrial_km', 'water_km', 'mkad_km', 'ttk_km', 'sadovoe_km', 'bulvar_ring_km',\n",
    "'kremlin_km', 'ts_km', 'big_market_km','market_shop_km', 'fitness_km', 'university_km', 'workplaces_km', 'shopping_centers_km',\n",
    "'office_km', 'additional_education_raion', 'preschool_km']]\n",
    "\n",
    "y = clean_data['price_doc']\n",
    "\n",
    "X_train, X_test, y_train, y_test = train_test_split(X, y, test_size=0.25, random_state=42)\n",
    "\n",
    "model.fit(X_train, y_train)\n",
    "\n",
    "score = model.score(X_test, y_test)\n",
    "\n",
    "print(\"Качество модели ->\", score)\n",
    "\n",
    "score_list.append(score)"
   ]
  },
  {
   "cell_type": "code",
   "execution_count": 95,
   "metadata": {},
   "outputs": [],
   "source": [
    "clean_data['path_floor'] = clean_data['floor']/clean_data['max_floor']\n",
    "clean_data.drop(columns=['floor', 'max_floor'], inplace=True)\n"
   ]
  },
  {
   "cell_type": "code",
   "execution_count": 96,
   "metadata": {},
   "outputs": [],
   "source": [
    "clean_data.dropna(inplace=True)"
   ]
  },
  {
   "cell_type": "code",
   "execution_count": 97,
   "metadata": {},
   "outputs": [],
   "source": [
    "clean_data = clean_data.loc[(clean_data['path_floor'] > 0) & (clean_data['path_floor'] <= 1)]\n",
    "clean_data = clean_data.loc[(clean_data['path_life_sq'] > 0) & (clean_data['path_life_sq'] < 1)]"
   ]
  },
  {
   "cell_type": "code",
   "execution_count": 98,
   "metadata": {},
   "outputs": [
    {
     "name": "stdout",
     "output_type": "stream",
     "text": [
      "Качество модели -> 0.39128008281560955\n"
     ]
    }
   ],
   "source": [
    "X = clean_data[['path_life_sq', 'path_floor', 'material', 'build_year', 'num_room', 'kitch_sq',\n",
    "'state', 'area_m', 'raion_popul', 'green_zone_part', 'indust_part', 'preschool_education_centers_raion',\n",
    "'school_education_centers_raion', 'hospital_beds_raion', 'healthcare_centers_raion', 'sport_objects_raion',\n",
    "'additional_education_raion', 'shopping_centers_raion', 'office_raion', 'ID_metro', 'metro_min_walk', 'kindergarten_km',\n",
    "'school_km', 'park_km', 'green_zone_km', 'industrial_km', 'water_km', 'mkad_km', 'ttk_km', 'sadovoe_km', 'bulvar_ring_km',\n",
    "'kremlin_km', 'ts_km', 'big_market_km','market_shop_km', 'fitness_km', 'university_km', 'workplaces_km', 'shopping_centers_km',\n",
    "'office_km', 'additional_education_raion', 'preschool_km']]\n",
    "\n",
    "y = clean_data['price_doc']\n",
    "\n",
    "X_train, X_test, y_train, y_test = train_test_split(X, y, test_size=0.25, random_state=42)\n",
    "\n",
    "model.fit(X_train, y_train)\n",
    "\n",
    "score = model.score(X_test, y_test)\n",
    "\n",
    "print(\"Качество модели ->\", score)\n",
    "\n",
    "score_list.append(score)"
   ]
  },
  {
   "cell_type": "code",
   "execution_count": 99,
   "metadata": {},
   "outputs": [],
   "source": [
    "clean_data['total_hospital_beds'] = clean_data['hospital_beds_raion']*clean_data['healthcare_centers_raion']\n",
    "clean_data.drop(columns=['hospital_beds_raion', 'healthcare_centers_raion'], inplace=True)\n"
   ]
  },
  {
   "cell_type": "code",
   "execution_count": 100,
   "metadata": {},
   "outputs": [],
   "source": [
    "clean_data.dropna(inplace=True)"
   ]
  },
  {
   "cell_type": "code",
   "execution_count": 102,
   "metadata": {},
   "outputs": [
    {
     "name": "stdout",
     "output_type": "stream",
     "text": [
      "Качество модели -> 0.3930547472331396\n"
     ]
    }
   ],
   "source": [
    "X = clean_data[['path_life_sq', 'path_floor', 'material', 'build_year', 'num_room', 'kitch_sq',\n",
    "'state', 'area_m', 'raion_popul', 'green_zone_part', 'indust_part', 'preschool_education_centers_raion',\n",
    "'school_education_centers_raion', 'total_hospital_beds', 'sport_objects_raion',\n",
    "'additional_education_raion', 'shopping_centers_raion', 'office_raion', 'ID_metro', 'metro_min_walk', 'kindergarten_km',\n",
    "'school_km', 'park_km', 'green_zone_km', 'industrial_km', 'water_km', 'mkad_km', 'ttk_km', 'sadovoe_km', 'bulvar_ring_km',\n",
    "'kremlin_km', 'ts_km', 'big_market_km','market_shop_km', 'fitness_km', 'university_km', 'workplaces_km', 'shopping_centers_km',\n",
    "'office_km', 'additional_education_raion', 'preschool_km']]\n",
    "\n",
    "y = clean_data['price_doc']\n",
    "\n",
    "X_train, X_test, y_train, y_test = train_test_split(X, y, test_size=0.25, random_state=42)\n",
    "\n",
    "model.fit(X_train, y_train)\n",
    "\n",
    "score = model.score(X_test, y_test)\n",
    "\n",
    "print(\"Качество модели ->\", score)\n",
    "\n",
    "score_list.append(score)"
   ]
  },
  {
   "cell_type": "code",
   "execution_count": 103,
   "metadata": {},
   "outputs": [],
   "source": [
    "clean_data['avg_state'] = clean_data['state']/clean_data['build_year']\n",
    "clean_data.drop(columns=['state', 'build_year'], inplace=True)"
   ]
  },
  {
   "cell_type": "code",
   "execution_count": 106,
   "metadata": {},
   "outputs": [
    {
     "name": "stdout",
     "output_type": "stream",
     "text": [
      "Качество модели -> 0.38940079589780163\n"
     ]
    }
   ],
   "source": [
    "X = clean_data[['path_life_sq', 'path_floor', 'material', 'avg_state', 'num_room', 'kitch_sq', 'area_m', 'raion_popul', 'green_zone_part', 'indust_part', 'preschool_education_centers_raion',\n",
    "'school_education_centers_raion', 'total_hospital_beds', 'sport_objects_raion',\n",
    "'additional_education_raion', 'shopping_centers_raion', 'office_raion', 'ID_metro', 'metro_min_walk', 'kindergarten_km',\n",
    "'school_km', 'park_km', 'green_zone_km', 'industrial_km', 'water_km', 'mkad_km', 'ttk_km', 'sadovoe_km', 'bulvar_ring_km',\n",
    "'kremlin_km', 'ts_km', 'big_market_km','market_shop_km', 'fitness_km', 'university_km', 'workplaces_km', 'shopping_centers_km',\n",
    "'office_km', 'additional_education_raion', 'preschool_km']]\n",
    "\n",
    "y = clean_data['price_doc']\n",
    "\n",
    "X_train, X_test, y_train, y_test = train_test_split(X, y, test_size=0.25, random_state=42)\n",
    "\n",
    "model.fit(X_train, y_train)\n",
    "\n",
    "score = model.score(X_test, y_test)\n",
    "\n",
    "print(\"Качество модели ->\", score)\n",
    "\n",
    "score_list.append(score)"
   ]
  },
  {
   "cell_type": "code",
   "execution_count": 109,
   "metadata": {},
   "outputs": [
    {
     "name": "stdout",
     "output_type": "stream",
     "text": [
      "Качество модели -> 0.4468824327621793\n"
     ]
    }
   ],
   "source": [
    "from sklearn.preprocessing import PolynomialFeatures\n",
    "poly_reg = PolynomialFeatures(degree=2)\n",
    "\n",
    "X = clean_data[['path_life_sq', 'path_floor', 'material', 'avg_state', 'num_room', 'kitch_sq', 'area_m', 'raion_popul', 'green_zone_part', 'indust_part', 'preschool_education_centers_raion',\n",
    "'school_education_centers_raion', 'total_hospital_beds', 'sport_objects_raion',\n",
    "'additional_education_raion', 'shopping_centers_raion', 'office_raion', 'ID_metro', 'metro_min_walk', 'kindergarten_km',\n",
    "'school_km', 'park_km', 'green_zone_km', 'industrial_km', 'water_km', 'mkad_km', 'ttk_km', 'sadovoe_km', 'bulvar_ring_km',\n",
    "'kremlin_km', 'ts_km', 'big_market_km','market_shop_km', 'fitness_km', 'university_km', 'workplaces_km', 'shopping_centers_km',\n",
    "'office_km', 'additional_education_raion', 'preschool_km']]\n",
    "\n",
    "X_poly = poly_reg.fit_transform(X)\n",
    "\n",
    "y = clean_data['price_doc']\n",
    "\n",
    "X_train, X_test, y_train, y_test = train_test_split(X_poly, y, test_size=0.25, random_state=42)\n",
    "\n",
    "model.fit(X_train, y_train)\n",
    "\n",
    "score = model.score(X_test, y_test)\n",
    "\n",
    "print(\"Качество модели ->\", score)\n",
    "\n",
    "score_list.append(score)\n"
   ]
  },
  {
   "cell_type": "markdown",
   "metadata": {},
   "source": [
    "Посмотроим график изменения качества модели"
   ]
  },
  {
   "cell_type": "code",
   "execution_count": 110,
   "metadata": {},
   "outputs": [
    {
     "data": {
      "text/plain": [
       "[<matplotlib.lines.Line2D at 0x7f80d4753b20>]"
      ]
     },
     "execution_count": 110,
     "metadata": {},
     "output_type": "execute_result"
    },
    {
     "data": {
      "image/png": "[encoded data removed]",
      "text/plain": [
       "<Figure size 432x288 with 1 Axes>"
      ]
     },
     "metadata": {
      "needs_background": "light"
     },
     "output_type": "display_data"
    }
   ],
   "source": [
    "plt.plot([i for i in range(0, len(score_list))], score_list)"
   ]
  },
  {
   "cell_type": "markdown",
   "metadata": {},
   "source": [
    "### Итог:\n",
    "На 4ом шаге был самый лучший результат. Но потом почему-то качество модели стало ухудшаться. И чтобы не делал - не ставилось лучше результата на 4 шаге."
   ]
  }
 ],
 "metadata": {
  "hide_input": false,
  "kernelspec": {
   "display_name": "Python 3",
   "language": "python",
   "name": "python3"
  },
  "language_info": {
   "codemirror_mode": {
    "name": "ipython",
    "version": 3
   },
   "file_extension": ".py",
   "mimetype": "text/x-python",
   "name": "python",
   "nbconvert_exporter": "python",
   "pygments_lexer": "ipython3",
   "version": "3.8.5"
  }
 },
 "nbformat": 4,
 "nbformat_minor": 4
}
